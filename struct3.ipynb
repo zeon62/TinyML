{
  "nbformat": 4,
  "nbformat_minor": 0,
  "metadata": {
    "colab": {
      "provenance": [],
      "authorship_tag": "ABX9TyOmUJ80+WXM10lmEVv/v186",
      "include_colab_link": true
    },
    "kernelspec": {
      "name": "python3",
      "display_name": "Python 3"
    },
    "language_info": {
      "name": "python"
    }
  },
  "cells": [
    {
      "cell_type": "markdown",
      "metadata": {
        "id": "view-in-github",
        "colab_type": "text"
      },
      "source": [
        "<a href=\"https://colab.research.google.com/github/zeon62/TinyML/blob/main/struct3.ipynb\" target=\"_parent\"><img src=\"https://colab.research.google.com/assets/colab-badge.svg\" alt=\"Open In Colab\"/></a>"
      ]
    },
    {
      "cell_type": "code",
      "execution_count": null,
      "metadata": {
        "colab": {
          "base_uri": "https://localhost:8080/"
        },
        "id": "ctkspPwPeYho",
        "outputId": "915a9df6-af69-4248-8232-4aa50443e6e8"
      },
      "outputs": [
        {
          "output_type": "stream",
          "name": "stdout",
          "text": [
            "Looking in indexes: https://pypi.org/simple, https://us-python.pkg.dev/colab-wheels/public/simple/\n",
            "Requirement already satisfied: tensorflow==2.11.0 in /usr/local/lib/python3.9/dist-packages (2.11.0)\n",
            "Requirement already satisfied: termcolor>=1.1.0 in /usr/local/lib/python3.9/dist-packages (from tensorflow==2.11.0) (2.2.0)\n",
            "Requirement already satisfied: setuptools in /usr/local/lib/python3.9/dist-packages (from tensorflow==2.11.0) (57.4.0)\n",
            "Requirement already satisfied: astunparse>=1.6.0 in /usr/local/lib/python3.9/dist-packages (from tensorflow==2.11.0) (1.6.3)\n",
            "Requirement already satisfied: opt-einsum>=2.3.2 in /usr/local/lib/python3.9/dist-packages (from tensorflow==2.11.0) (3.3.0)\n",
            "Requirement already satisfied: packaging in /usr/local/lib/python3.9/dist-packages (from tensorflow==2.11.0) (23.0)\n",
            "Requirement already satisfied: gast<=0.4.0,>=0.2.1 in /usr/local/lib/python3.9/dist-packages (from tensorflow==2.11.0) (0.4.0)\n",
            "Requirement already satisfied: h5py>=2.9.0 in /usr/local/lib/python3.9/dist-packages (from tensorflow==2.11.0) (3.1.0)\n",
            "Requirement already satisfied: libclang>=13.0.0 in /usr/local/lib/python3.9/dist-packages (from tensorflow==2.11.0) (15.0.6.1)\n",
            "Requirement already satisfied: flatbuffers>=2.0 in /usr/local/lib/python3.9/dist-packages (from tensorflow==2.11.0) (23.3.3)\n",
            "Requirement already satisfied: six>=1.12.0 in /usr/local/lib/python3.9/dist-packages (from tensorflow==2.11.0) (1.15.0)\n",
            "Requirement already satisfied: tensorboard<2.12,>=2.11 in /usr/local/lib/python3.9/dist-packages (from tensorflow==2.11.0) (2.11.2)\n",
            "Requirement already satisfied: tensorflow-io-gcs-filesystem>=0.23.1 in /usr/local/lib/python3.9/dist-packages (from tensorflow==2.11.0) (0.31.0)\n",
            "Requirement already satisfied: wrapt>=1.11.0 in /usr/local/lib/python3.9/dist-packages (from tensorflow==2.11.0) (1.15.0)\n",
            "Requirement already satisfied: keras<2.12,>=2.11.0 in /usr/local/lib/python3.9/dist-packages (from tensorflow==2.11.0) (2.11.0)\n",
            "Requirement already satisfied: numpy>=1.20 in /usr/local/lib/python3.9/dist-packages (from tensorflow==2.11.0) (1.22.4)\n",
            "Requirement already satisfied: typing-extensions>=3.6.6 in /usr/local/lib/python3.9/dist-packages (from tensorflow==2.11.0) (4.5.0)\n",
            "Requirement already satisfied: tensorflow-estimator<2.12,>=2.11.0 in /usr/local/lib/python3.9/dist-packages (from tensorflow==2.11.0) (2.11.0)\n",
            "Requirement already satisfied: google-pasta>=0.1.1 in /usr/local/lib/python3.9/dist-packages (from tensorflow==2.11.0) (0.2.0)\n",
            "Requirement already satisfied: absl-py>=1.0.0 in /usr/local/lib/python3.9/dist-packages (from tensorflow==2.11.0) (1.4.0)\n",
            "Requirement already satisfied: grpcio<2.0,>=1.24.3 in /usr/local/lib/python3.9/dist-packages (from tensorflow==2.11.0) (1.51.3)\n",
            "Requirement already satisfied: protobuf<3.20,>=3.9.2 in /usr/local/lib/python3.9/dist-packages (from tensorflow==2.11.0) (3.19.6)\n",
            "Requirement already satisfied: wheel<1.0,>=0.23.0 in /usr/local/lib/python3.9/dist-packages (from astunparse>=1.6.0->tensorflow==2.11.0) (0.38.4)\n",
            "Requirement already satisfied: tensorboard-data-server<0.7.0,>=0.6.0 in /usr/local/lib/python3.9/dist-packages (from tensorboard<2.12,>=2.11->tensorflow==2.11.0) (0.6.1)\n",
            "Requirement already satisfied: google-auth-oauthlib<0.5,>=0.4.1 in /usr/local/lib/python3.9/dist-packages (from tensorboard<2.12,>=2.11->tensorflow==2.11.0) (0.4.6)\n",
            "Requirement already satisfied: google-auth<3,>=1.6.3 in /usr/local/lib/python3.9/dist-packages (from tensorboard<2.12,>=2.11->tensorflow==2.11.0) (2.16.2)\n",
            "Requirement already satisfied: markdown>=2.6.8 in /usr/local/lib/python3.9/dist-packages (from tensorboard<2.12,>=2.11->tensorflow==2.11.0) (3.4.1)\n",
            "Requirement already satisfied: requests<3,>=2.21.0 in /usr/local/lib/python3.9/dist-packages (from tensorboard<2.12,>=2.11->tensorflow==2.11.0) (2.25.1)\n",
            "Requirement already satisfied: tensorboard-plugin-wit>=1.6.0 in /usr/local/lib/python3.9/dist-packages (from tensorboard<2.12,>=2.11->tensorflow==2.11.0) (1.8.1)\n",
            "Requirement already satisfied: werkzeug>=1.0.1 in /usr/local/lib/python3.9/dist-packages (from tensorboard<2.12,>=2.11->tensorflow==2.11.0) (2.2.3)\n",
            "Requirement already satisfied: rsa<5,>=3.1.4 in /usr/local/lib/python3.9/dist-packages (from google-auth<3,>=1.6.3->tensorboard<2.12,>=2.11->tensorflow==2.11.0) (4.9)\n",
            "Requirement already satisfied: cachetools<6.0,>=2.0.0 in /usr/local/lib/python3.9/dist-packages (from google-auth<3,>=1.6.3->tensorboard<2.12,>=2.11->tensorflow==2.11.0) (5.3.0)\n",
            "Requirement already satisfied: pyasn1-modules>=0.2.1 in /usr/local/lib/python3.9/dist-packages (from google-auth<3,>=1.6.3->tensorboard<2.12,>=2.11->tensorflow==2.11.0) (0.2.8)\n",
            "Requirement already satisfied: requests-oauthlib>=0.7.0 in /usr/local/lib/python3.9/dist-packages (from google-auth-oauthlib<0.5,>=0.4.1->tensorboard<2.12,>=2.11->tensorflow==2.11.0) (1.3.1)\n",
            "Requirement already satisfied: importlib-metadata>=4.4 in /usr/local/lib/python3.9/dist-packages (from markdown>=2.6.8->tensorboard<2.12,>=2.11->tensorflow==2.11.0) (6.0.0)\n",
            "Requirement already satisfied: urllib3<1.27,>=1.21.1 in /usr/local/lib/python3.9/dist-packages (from requests<3,>=2.21.0->tensorboard<2.12,>=2.11->tensorflow==2.11.0) (1.26.14)\n",
            "Requirement already satisfied: idna<3,>=2.5 in /usr/local/lib/python3.9/dist-packages (from requests<3,>=2.21.0->tensorboard<2.12,>=2.11->tensorflow==2.11.0) (2.10)\n",
            "Requirement already satisfied: certifi>=2017.4.17 in /usr/local/lib/python3.9/dist-packages (from requests<3,>=2.21.0->tensorboard<2.12,>=2.11->tensorflow==2.11.0) (2022.12.7)\n",
            "Requirement already satisfied: chardet<5,>=3.0.2 in /usr/local/lib/python3.9/dist-packages (from requests<3,>=2.21.0->tensorboard<2.12,>=2.11->tensorflow==2.11.0) (4.0.0)\n",
            "Requirement already satisfied: MarkupSafe>=2.1.1 in /usr/local/lib/python3.9/dist-packages (from werkzeug>=1.0.1->tensorboard<2.12,>=2.11->tensorflow==2.11.0) (2.1.2)\n",
            "Requirement already satisfied: zipp>=0.5 in /usr/local/lib/python3.9/dist-packages (from importlib-metadata>=4.4->markdown>=2.6.8->tensorboard<2.12,>=2.11->tensorflow==2.11.0) (3.15.0)\n",
            "Requirement already satisfied: pyasn1<0.5.0,>=0.4.6 in /usr/local/lib/python3.9/dist-packages (from pyasn1-modules>=0.2.1->google-auth<3,>=1.6.3->tensorboard<2.12,>=2.11->tensorflow==2.11.0) (0.4.8)\n",
            "Requirement already satisfied: oauthlib>=3.0.0 in /usr/local/lib/python3.9/dist-packages (from requests-oauthlib>=0.7.0->google-auth-oauthlib<0.5,>=0.4.1->tensorboard<2.12,>=2.11->tensorflow==2.11.0) (3.2.2)\n"
          ]
        }
      ],
      "source": [
        "!pip install tensorflow==2.11.0"
      ]
    },
    {
      "cell_type": "code",
      "source": [
        "import tensorflow as tf\n",
        "import numpy as np\n",
        "import math\n",
        "import os"
      ],
      "metadata": {
        "id": "L52i070XeiT3"
      },
      "execution_count": null,
      "outputs": []
    },
    {
      "cell_type": "code",
      "source": [
        "SAMPLES = 1000\n",
        "SEED = 1337\n",
        "np.random.seed(SEED)\n",
        "tf.random.set_seed(SEED)\n",
        "\n",
        "x_values = np.random.uniform(low=0, high=2*math.pi, size=SAMPLES)\n",
        "np.random.shuffle(x_values)\n",
        "y_values = np.sin(x_values)\n",
        "y_values += 0.1 * np.random.randn(*y_values.shape)\n",
        "\n",
        "TRAIN_SPLIT = int(0.6*SAMPLES)\n",
        "TEST_SPLIT = int(0.2*SAMPLES + TRAIN_SPLIT)\n",
        "\n",
        "x_train, x_validate, x_test = np.split(x_values, [TRAIN_SPLIT, TEST_SPLIT])\n",
        "y_train, y_validate, y_test = np.split(y_values, [TRAIN_SPLIT, TEST_SPLIT])"
      ],
      "metadata": {
        "id": "QJkyHDH_gvkW"
      },
      "execution_count": null,
      "outputs": []
    },
    {
      "cell_type": "code",
      "source": [
        "from tensorflow.keras import layers\n",
        "model = tf.keras.Sequential()\n",
        "model.add(layers.Dense(4, activation = 'relu', input_shape=(1,)))\n",
        "model.add(layers.Dense(1))"
      ],
      "metadata": {
        "id": "U2UadEbKepKh"
      },
      "execution_count": null,
      "outputs": []
    },
    {
      "cell_type": "code",
      "source": [
        "#print(x_train, y_train)"
      ],
      "metadata": {
        "id": "JyZxOsK0gznN"
      },
      "execution_count": null,
      "outputs": []
    },
    {
      "cell_type": "code",
      "source": [
        "#model.summary()"
      ],
      "metadata": {
        "id": "VspD38G8fX4t"
      },
      "execution_count": null,
      "outputs": []
    },
    {
      "cell_type": "code",
      "source": [
        "model.save_weights('model/checkpoint/model.{epoch:02d}.ckpt'.format(epoch=99))"
      ],
      "metadata": {
        "id": "ssVYCjqDpEJQ"
      },
      "execution_count": null,
      "outputs": []
    },
    {
      "cell_type": "code",
      "source": [
        "model.save(\"model/before_compile.h5\")"
      ],
      "metadata": {
        "colab": {
          "base_uri": "https://localhost:8080/"
        },
        "id": "Tu1xeFaCOUAm",
        "outputId": "27846bbd-d369-4208-afe9-86574fca792f"
      },
      "execution_count": null,
      "outputs": [
        {
          "output_type": "stream",
          "name": "stderr",
          "text": [
            "WARNING:tensorflow:Compiled the loaded model, but the compiled metrics have yet to be built. `model.compile_metrics` will be empty until you train or evaluate the model.\n"
          ]
        }
      ]
    },
    {
      "cell_type": "code",
      "source": [
        "model.compile(optimizer='rmsprop', loss='mse', metrics=['mae'])"
      ],
      "metadata": {
        "id": "YHdgjiyje-X4"
      },
      "execution_count": null,
      "outputs": []
    },
    {
      "cell_type": "code",
      "source": [
        "model.save(\"model/before_train.h5\")\n",
        "model.summary()"
      ],
      "metadata": {
        "colab": {
          "base_uri": "https://localhost:8080/"
        },
        "id": "-tca1DVejd0V",
        "outputId": "690d8994-7253-4803-b1f1-0ec435ae3372"
      },
      "execution_count": null,
      "outputs": [
        {
          "output_type": "stream",
          "name": "stdout",
          "text": [
            "Model: \"sequential\"\n",
            "_________________________________________________________________\n",
            " Layer (type)                Output Shape              Param #   \n",
            "=================================================================\n",
            " dense (Dense)               (None, 4)                 8         \n",
            "                                                                 \n",
            " dense_1 (Dense)             (None, 1)                 5         \n",
            "                                                                 \n",
            "=================================================================\n",
            "Total params: 13\n",
            "Trainable params: 13\n",
            "Non-trainable params: 0\n",
            "_________________________________________________________________\n"
          ]
        }
      ]
    },
    {
      "cell_type": "code",
      "source": [
        "model.save_weights('model/checkpoint/model.{epoch:02d}.ckpt'.format(epoch=0))"
      ],
      "metadata": {
        "id": "H1m_wW_1vcb9"
      },
      "execution_count": null,
      "outputs": []
    },
    {
      "cell_type": "code",
      "source": [
        "from keras.callbacks import LambdaCallback\n",
        "print_weights = LambdaCallback(on_epoch_end=lambda epoch, logs: print(\"\\n\", model.layers[0].get_weights(), \"\\n\", model.layers[1].get_weights()))"
      ],
      "metadata": {
        "id": "6qszpliffqi0"
      },
      "execution_count": null,
      "outputs": []
    },
    {
      "cell_type": "code",
      "source": [
        "my_callbacks = [\n",
        "    tf.keras.callbacks.ModelCheckpoint(filepath='model/checkpoint/model.{epoch:02d}.ckpt')\n",
        "]"
      ],
      "metadata": {
        "id": "1eHLSqSakIst"
      },
      "execution_count": null,
      "outputs": []
    },
    {
      "cell_type": "code",
      "source": [
        "history = model.fit(x_train, y_train, epochs=10, batch_size=1, validation_data=(x_validate, y_validate), callbacks=[print_weights, my_callbacks])"
      ],
      "metadata": {
        "colab": {
          "base_uri": "https://localhost:8080/"
        },
        "id": "yIHY9TgVhkVO",
        "outputId": "85b5dcc1-3176-4329-fbd8-9e119689cc2a"
      },
      "execution_count": null,
      "outputs": [
        {
          "output_type": "stream",
          "name": "stdout",
          "text": [
            "Epoch 1/10\n",
            "592/600 [============================>.] - ETA: 0s - loss: 6.6413 - mae: 1.9102\n",
            " [array([[-0.8446505 ,  0.6077415 ,  1.0219222 ,  0.32498065]],\n",
            "      dtype=float32), array([ 0.        , -0.4531031 ,  0.03562162, -0.4384423 ], dtype=float32)] \n",
            " [array([[-0.07297993],\n",
            "       [-0.66189325],\n",
            "       [ 0.17365706],\n",
            "       [-0.19683686]], dtype=float32), array([0.44975758], dtype=float32)]\n"
          ]
        },
        {
          "output_type": "stream",
          "name": "stderr",
          "text": [
            "WARNING:absl:Found untraced functions such as _update_step_xla while saving (showing 1 of 1). These functions will not be directly callable after loading.\n"
          ]
        },
        {
          "output_type": "stream",
          "name": "stdout",
          "text": [
            "\b\b\b\b\b\b\b\b\b\b\b\b\b\b\b\b\b\b\b\b\b\b\b\b\b\b\b\b\b\b\b\b\b\b\b\b\b\b\b\b\b\b\b\b\b\b\b\b\b\b\b\b\b\b\b\b\b\b\b\b\b\b\b\b\b\b\b\b\b\b\b\b\b\b\b\b\b\b\b\r600/600 [==============================] - 3s 5ms/step - loss: 6.5545 - mae: 1.8881 - val_loss: 0.2011 - val_mae: 0.3848\n",
            "Epoch 2/10\n",
            "585/600 [============================>.] - ETA: 0s - loss: 0.1855 - mae: 0.3764\n",
            " [array([[-0.8446505 ,  0.61054015,  1.0172151 ,  0.339691  ]],\n",
            "      dtype=float32), array([ 0.        , -0.5352534 ,  0.08234067, -0.48411113], dtype=float32)] \n",
            " [array([[-0.07297993],\n",
            "       [-0.68929046],\n",
            "       [ 0.17009248],\n",
            "       [-0.2469614 ]], dtype=float32), array([0.4967369], dtype=float32)]\n"
          ]
        },
        {
          "output_type": "stream",
          "name": "stderr",
          "text": [
            "WARNING:absl:Found untraced functions such as _update_step_xla while saving (showing 1 of 1). These functions will not be directly callable after loading.\n"
          ]
        },
        {
          "output_type": "stream",
          "name": "stdout",
          "text": [
            "\b\b\b\b\b\b\b\b\b\b\b\b\b\b\b\b\b\b\b\b\b\b\b\b\b\b\b\b\b\b\b\b\b\b\b\b\b\b\b\b\b\b\b\b\b\b\b\b\b\b\b\b\b\b\b\b\b\b\b\b\b\b\b\b\b\b\b\b\b\b\b\b\b\b\b\b\b\b\b\r600/600 [==============================] - 2s 3ms/step - loss: 0.1854 - mae: 0.3759 - val_loss: 0.1862 - val_mae: 0.3641\n",
            "Epoch 3/10\n",
            "591/600 [============================>.] - ETA: 0s - loss: 0.1740 - mae: 0.3574\n",
            " [array([[-0.8446505 ,  0.6045673 ,  1.0209538 ,  0.34363592]],\n",
            "      dtype=float32), array([ 0.        , -0.6088531 ,  0.11265071, -0.5259295 ], dtype=float32)] \n",
            " [array([[-0.07297993],\n",
            "       [-0.70448095],\n",
            "       [ 0.17461254],\n",
            "       [-0.2775494 ]], dtype=float32), array([0.52710736], dtype=float32)]\n"
          ]
        },
        {
          "output_type": "stream",
          "name": "stderr",
          "text": [
            "WARNING:absl:Found untraced functions such as _update_step_xla while saving (showing 1 of 1). These functions will not be directly callable after loading.\n"
          ]
        },
        {
          "output_type": "stream",
          "name": "stdout",
          "text": [
            "\b\b\b\b\b\b\b\b\b\b\b\b\b\b\b\b\b\b\b\b\b\b\b\b\b\b\b\b\b\b\b\b\b\b\b\b\b\b\b\b\b\b\b\b\b\b\b\b\b\b\b\b\b\b\b\b\b\b\b\b\b\b\b\b\b\b\b\b\b\b\b\b\b\b\b\b\b\b\b\r600/600 [==============================] - 5s 8ms/step - loss: 0.1739 - mae: 0.3577 - val_loss: 0.1754 - val_mae: 0.3559\n",
            "Epoch 4/10\n",
            "591/600 [============================>.] - ETA: 0s - loss: 0.1719 - mae: 0.3482\n",
            " [array([[-0.8446505 ,  0.6031754 ,  1.0203451 ,  0.35087994]],\n",
            "      dtype=float32), array([ 0.        , -0.66199046,  0.12201788, -0.5508325 ], dtype=float32)] \n",
            " [array([[-0.07297993],\n",
            "       [-0.7206903 ],\n",
            "       [ 0.17448604],\n",
            "       [-0.30386013]], dtype=float32), array([0.5365942], dtype=float32)]\n"
          ]
        },
        {
          "output_type": "stream",
          "name": "stderr",
          "text": [
            "WARNING:absl:Found untraced functions such as _update_step_xla while saving (showing 1 of 1). These functions will not be directly callable after loading.\n"
          ]
        },
        {
          "output_type": "stream",
          "name": "stdout",
          "text": [
            "\b\b\b\b\b\b\b\b\b\b\b\b\b\b\b\b\b\b\b\b\b\b\b\b\b\b\b\b\b\b\b\b\b\b\b\b\b\b\b\b\b\b\b\b\b\b\b\b\b\b\b\b\b\b\b\b\b\b\b\b\b\b\b\b\b\b\b\b\b\b\b\b\b\b\b\b\b\b\b\r600/600 [==============================] - 2s 4ms/step - loss: 0.1712 - mae: 0.3476 - val_loss: 0.1716 - val_mae: 0.3484\n",
            "Epoch 5/10\n",
            "586/600 [============================>.] - ETA: 0s - loss: 0.1703 - mae: 0.3440\n",
            " [array([[-0.8446505 ,  0.60196364,  1.0200683 ,  0.3580221 ]],\n",
            "      dtype=float32), array([ 0.        , -0.70383763,  0.12459653, -0.56726015], dtype=float32)] \n",
            " [array([[-0.07297993],\n",
            "       [-0.7347032 ],\n",
            "       [ 0.17452733],\n",
            "       [-0.32488373]], dtype=float32), array([0.53942734], dtype=float32)]\n"
          ]
        },
        {
          "output_type": "stream",
          "name": "stderr",
          "text": [
            "WARNING:absl:Found untraced functions such as _update_step_xla while saving (showing 1 of 1). These functions will not be directly callable after loading.\n"
          ]
        },
        {
          "output_type": "stream",
          "name": "stdout",
          "text": [
            "\b\b\b\b\b\b\b\b\b\b\b\b\b\b\b\b\b\b\b\b\b\b\b\b\b\b\b\b\b\b\b\b\b\b\b\b\b\b\b\b\b\b\b\b\b\b\b\b\b\b\b\b\b\b\b\b\b\b\b\b\b\b\b\b\b\b\b\b\b\b\b\b\b\b\b\b\b\b\b\r600/600 [==============================] - 2s 4ms/step - loss: 0.1699 - mae: 0.3433 - val_loss: 0.1695 - val_mae: 0.3420\n",
            "Epoch 6/10\n",
            "600/600 [==============================] - ETA: 0s - loss: 0.1693 - mae: 0.3391"
          ]
        },
        {
          "output_type": "stream",
          "name": "stderr",
          "text": [
            "WARNING:absl:Found untraced functions such as _update_step_xla while saving (showing 1 of 1). These functions will not be directly callable after loading.\n"
          ]
        },
        {
          "output_type": "stream",
          "name": "stdout",
          "text": [
            "\n",
            " [array([[-0.8446505 ,  0.60335475,  1.0181868 ,  0.36629105]],\n",
            "      dtype=float32), array([ 0.        , -0.73579353,  0.11585511, -0.57833177], dtype=float32)] \n",
            " [array([[-0.07297993],\n",
            "       [-0.7494409 ],\n",
            "       [ 0.17257847],\n",
            "       [-0.3450456 ]], dtype=float32), array([0.53079265], dtype=float32)]\n",
            "600/600 [==============================] - 1s 2ms/step - loss: 0.1693 - mae: 0.3391 - val_loss: 0.1710 - val_mae: 0.3346\n",
            "Epoch 7/10\n",
            "599/600 [============================>.] - ETA: 0s - loss: 0.1697 - mae: 0.3352\n",
            " [array([[-0.8446505,  0.5944319,  1.0269316,  0.3633889]], dtype=float32), array([ 0.        , -0.7728387 ,  0.11645906, -0.5968855 ], dtype=float32)] \n",
            " [array([[-0.07297993],\n",
            "       [-0.7522854 ],\n",
            "       [ 0.18128347],\n",
            "       [-0.3517682 ]], dtype=float32), array([0.53157616], dtype=float32)]\n"
          ]
        },
        {
          "output_type": "stream",
          "name": "stderr",
          "text": [
            "WARNING:absl:Found untraced functions such as _update_step_xla while saving (showing 1 of 1). These functions will not be directly callable after loading.\n"
          ]
        },
        {
          "output_type": "stream",
          "name": "stdout",
          "text": [
            "\b\b\b\b\b\b\b\b\b\b\b\b\b\b\b\b\b\b\b\b\b\b\b\b\b\b\b\b\b\b\b\b\b\b\b\b\b\b\b\b\b\b\b\b\b\b\b\b\b\b\b\b\b\b\b\b\b\b\b\b\b\b\b\b\b\b\b\b\b\b\b\b\b\b\b\b\b\b\b\r600/600 [==============================] - 1s 2ms/step - loss: 0.1695 - mae: 0.3349 - val_loss: 0.1681 - val_mae: 0.3387\n",
            "Epoch 8/10\n",
            "567/600 [===========================>..] - ETA: 0s - loss: 0.1701 - mae: 0.3328"
          ]
        },
        {
          "output_type": "stream",
          "name": "stderr",
          "text": [
            "WARNING:absl:Found untraced functions such as _update_step_xla while saving (showing 1 of 1). These functions will not be directly callable after loading.\n"
          ]
        },
        {
          "output_type": "stream",
          "name": "stdout",
          "text": [
            "\n",
            " [array([[-0.8446505 ,  0.60087657,  1.0207803 ,  0.37541223]],\n",
            "      dtype=float32), array([ 0.        , -0.7902132 ,  0.09860544, -0.5972805 ], dtype=float32)] \n",
            " [array([[-0.07297993],\n",
            "       [-0.7692363 ],\n",
            "       [ 0.17485182],\n",
            "       [-0.37168765]], dtype=float32), array([0.5138981], dtype=float32)]\n",
            "600/600 [==============================] - 1s 2ms/step - loss: 0.1684 - mae: 0.3320 - val_loss: 0.1725 - val_mae: 0.3281\n",
            "Epoch 9/10\n",
            "577/600 [===========================>..] - ETA: 0s - loss: 0.1663 - mae: 0.3282\n",
            " [array([[-0.8446505 ,  0.5885972 ,  1.0346776 ,  0.36780146]],\n",
            "      dtype=float32), array([ 0.        , -0.82320154,  0.10248455, -0.61603683], dtype=float32)] \n",
            " [array([[-0.07297993],\n",
            "       [-0.7664509 ],\n",
            "       [ 0.1887422 ],\n",
            "       [-0.37103856]], dtype=float32), array([0.51810426], dtype=float32)]\n"
          ]
        },
        {
          "output_type": "stream",
          "name": "stderr",
          "text": [
            "WARNING:absl:Found untraced functions such as _update_step_xla while saving (showing 1 of 1). These functions will not be directly callable after loading.\n"
          ]
        },
        {
          "output_type": "stream",
          "name": "stdout",
          "text": [
            "\b\b\b\b\b\b\b\b\b\b\b\b\b\b\b\b\b\b\b\b\b\b\b\b\b\b\b\b\b\b\b\b\b\b\b\b\b\b\b\b\b\b\b\b\b\b\b\b\b\b\b\b\b\b\b\b\b\b\b\b\b\b\b\b\b\b\b\b\b\b\b\b\b\b\b\b\b\b\b\r600/600 [==============================] - 1s 2ms/step - loss: 0.1672 - mae: 0.3290 - val_loss: 0.1698 - val_mae: 0.3379\n",
            "Epoch 10/10\n",
            "565/600 [===========================>..] - ETA: 0s - loss: 0.1670 - mae: 0.3255"
          ]
        },
        {
          "output_type": "stream",
          "name": "stderr",
          "text": [
            "WARNING:absl:Found untraced functions such as _update_step_xla while saving (showing 1 of 1). These functions will not be directly callable after loading.\n"
          ]
        },
        {
          "output_type": "stream",
          "name": "stdout",
          "text": [
            "\n",
            " [array([[-0.8446505 ,  0.5850637 ,  1.0405997 ,  0.36932582]],\n",
            "      dtype=float32), array([ 0.       , -0.8427232,  0.0958221, -0.6202226], dtype=float32)] \n",
            " [array([[-0.07297993],\n",
            "       [-0.771072  ],\n",
            "       [ 0.19463445],\n",
            "       [-0.37725195]], dtype=float32), array([0.51188564], dtype=float32)]\n",
            "600/600 [==============================] - 1s 2ms/step - loss: 0.1678 - mae: 0.3265 - val_loss: 0.1739 - val_mae: 0.3410\n"
          ]
        }
      ]
    },
    {
      "cell_type": "code",
      "source": [
        "model.save(\"model/after_train.h5\")"
      ],
      "metadata": {
        "id": "2AvdPzRPwc09"
      },
      "execution_count": null,
      "outputs": []
    },
    {
      "cell_type": "code",
      "source": [
        "model.save(\"model/after_train\")"
      ],
      "metadata": {
        "colab": {
          "base_uri": "https://localhost:8080/"
        },
        "id": "RHuLTisR48NQ",
        "outputId": "10182c07-ec66-42d8-aa64-56cafa905361"
      },
      "execution_count": null,
      "outputs": [
        {
          "output_type": "stream",
          "name": "stderr",
          "text": [
            "WARNING:absl:Found untraced functions such as _update_step_xla while saving (showing 1 of 1). These functions will not be directly callable after loading.\n"
          ]
        }
      ]
    },
    {
      "cell_type": "code",
      "source": [
        "model_json = model.to_json()\n",
        "with open('model/model_json.json', 'w') as f:\n",
        "\t\tf.write(model_json)"
      ],
      "metadata": {
        "id": "T9b6EXrGjVZc"
      },
      "execution_count": null,
      "outputs": []
    },
    {
      "cell_type": "code",
      "source": [
        "!zip -r model.zip model"
      ],
      "metadata": {
        "colab": {
          "base_uri": "https://localhost:8080/"
        },
        "id": "7H9kCwQ2oVGW",
        "outputId": "c8ea3f0c-e7da-41ba-f99d-6ff2722644f2"
      },
      "execution_count": null,
      "outputs": [
        {
          "output_type": "stream",
          "name": "stdout",
          "text": [
            "  adding: model/ (stored 0%)\n",
            "  adding: model/after_train.h5 (deflated 90%)\n",
            "  adding: model/before_compile.h5 (deflated 91%)\n",
            "  adding: model/checkpoint/ (stored 0%)\n",
            "  adding: model/checkpoint/model.99.ckpt.index (deflated 41%)\n",
            "  adding: model/checkpoint/model.04.ckpt/ (stored 0%)\n",
            "  adding: model/checkpoint/model.04.ckpt/keras_metadata.pb (deflated 83%)\n",
            "  adding: model/checkpoint/model.04.ckpt/variables/ (stored 0%)\n",
            "  adding: model/checkpoint/model.04.ckpt/variables/variables.index (deflated 54%)\n",
            "  adding: model/checkpoint/model.04.ckpt/variables/variables.data-00000-of-00001 (deflated 70%)\n",
            "  adding: model/checkpoint/model.04.ckpt/assets/ (stored 0%)\n",
            "  adding: model/checkpoint/model.04.ckpt/saved_model.pb (deflated 86%)\n",
            "  adding: model/checkpoint/model.04.ckpt/fingerprint.pb (stored 0%)\n",
            "  adding: model/checkpoint/model.02.ckpt/ (stored 0%)\n",
            "  adding: model/checkpoint/model.02.ckpt/keras_metadata.pb (deflated 83%)\n",
            "  adding: model/checkpoint/model.02.ckpt/variables/ (stored 0%)\n",
            "  adding: model/checkpoint/model.02.ckpt/variables/variables.index (deflated 54%)\n",
            "  adding: model/checkpoint/model.02.ckpt/variables/variables.data-00000-of-00001 (deflated 70%)\n",
            "  adding: model/checkpoint/model.02.ckpt/assets/ (stored 0%)\n",
            "  adding: model/checkpoint/model.02.ckpt/saved_model.pb (deflated 86%)\n",
            "  adding: model/checkpoint/model.02.ckpt/fingerprint.pb (stored 0%)\n",
            "  adding: model/checkpoint/model.08.ckpt/ (stored 0%)\n",
            "  adding: model/checkpoint/model.08.ckpt/keras_metadata.pb (deflated 83%)\n",
            "  adding: model/checkpoint/model.08.ckpt/variables/ (stored 0%)\n",
            "  adding: model/checkpoint/model.08.ckpt/variables/variables.index (deflated 54%)\n",
            "  adding: model/checkpoint/model.08.ckpt/variables/variables.data-00000-of-00001 (deflated 70%)\n",
            "  adding: model/checkpoint/model.08.ckpt/assets/ (stored 0%)\n",
            "  adding: model/checkpoint/model.08.ckpt/saved_model.pb (deflated 86%)\n",
            "  adding: model/checkpoint/model.08.ckpt/fingerprint.pb (stored 0%)\n",
            "  adding: model/checkpoint/model.00.ckpt.index (deflated 43%)\n",
            "  adding: model/checkpoint/model.09.ckpt/ (stored 0%)\n",
            "  adding: model/checkpoint/model.09.ckpt/keras_metadata.pb (deflated 83%)\n",
            "  adding: model/checkpoint/model.09.ckpt/variables/ (stored 0%)\n",
            "  adding: model/checkpoint/model.09.ckpt/variables/variables.index (deflated 54%)\n",
            "  adding: model/checkpoint/model.09.ckpt/variables/variables.data-00000-of-00001 (deflated 70%)\n",
            "  adding: model/checkpoint/model.09.ckpt/assets/ (stored 0%)\n",
            "  adding: model/checkpoint/model.09.ckpt/saved_model.pb (deflated 86%)\n",
            "  adding: model/checkpoint/model.09.ckpt/fingerprint.pb (stored 0%)\n",
            "  adding: model/checkpoint/model.00.ckpt.data-00000-of-00001 (deflated 58%)\n",
            "  adding: model/checkpoint/model.05.ckpt/ (stored 0%)\n",
            "  adding: model/checkpoint/model.05.ckpt/keras_metadata.pb (deflated 83%)\n",
            "  adding: model/checkpoint/model.05.ckpt/variables/ (stored 0%)\n",
            "  adding: model/checkpoint/model.05.ckpt/variables/variables.index (deflated 54%)\n",
            "  adding: model/checkpoint/model.05.ckpt/variables/variables.data-00000-of-00001 (deflated 70%)\n",
            "  adding: model/checkpoint/model.05.ckpt/assets/ (stored 0%)\n",
            "  adding: model/checkpoint/model.05.ckpt/saved_model.pb (deflated 86%)\n",
            "  adding: model/checkpoint/model.05.ckpt/fingerprint.pb (stored 0%)\n",
            "  adding: model/checkpoint/model.99.ckpt.data-00000-of-00001 (deflated 58%)\n",
            "  adding: model/checkpoint/model.10.ckpt/ (stored 0%)\n",
            "  adding: model/checkpoint/model.10.ckpt/keras_metadata.pb (deflated 83%)\n",
            "  adding: model/checkpoint/model.10.ckpt/variables/ (stored 0%)\n",
            "  adding: model/checkpoint/model.10.ckpt/variables/variables.index (deflated 54%)\n",
            "  adding: model/checkpoint/model.10.ckpt/variables/variables.data-00000-of-00001 (deflated 70%)\n",
            "  adding: model/checkpoint/model.10.ckpt/assets/ (stored 0%)\n",
            "  adding: model/checkpoint/model.10.ckpt/saved_model.pb (deflated 86%)\n",
            "  adding: model/checkpoint/model.10.ckpt/fingerprint.pb (stored 0%)\n",
            "  adding: model/checkpoint/checkpoint (deflated 42%)\n",
            "  adding: model/checkpoint/model.07.ckpt/ (stored 0%)\n",
            "  adding: model/checkpoint/model.07.ckpt/keras_metadata.pb (deflated 83%)\n",
            "  adding: model/checkpoint/model.07.ckpt/variables/ (stored 0%)\n",
            "  adding: model/checkpoint/model.07.ckpt/variables/variables.index (deflated 54%)\n",
            "  adding: model/checkpoint/model.07.ckpt/variables/variables.data-00000-of-00001 (deflated 70%)\n",
            "  adding: model/checkpoint/model.07.ckpt/assets/ (stored 0%)\n",
            "  adding: model/checkpoint/model.07.ckpt/saved_model.pb (deflated 86%)\n",
            "  adding: model/checkpoint/model.07.ckpt/fingerprint.pb (stored 0%)\n",
            "  adding: model/checkpoint/model.01.ckpt/ (stored 0%)\n",
            "  adding: model/checkpoint/model.01.ckpt/keras_metadata.pb (deflated 83%)\n",
            "  adding: model/checkpoint/model.01.ckpt/variables/ (stored 0%)\n",
            "  adding: model/checkpoint/model.01.ckpt/variables/variables.index (deflated 54%)\n",
            "  adding: model/checkpoint/model.01.ckpt/variables/variables.data-00000-of-00001 (deflated 70%)\n",
            "  adding: model/checkpoint/model.01.ckpt/assets/ (stored 0%)\n",
            "  adding: model/checkpoint/model.01.ckpt/saved_model.pb (deflated 86%)\n",
            "  adding: model/checkpoint/model.01.ckpt/fingerprint.pb (stored 0%)\n",
            "  adding: model/checkpoint/model.06.ckpt/ (stored 0%)\n",
            "  adding: model/checkpoint/model.06.ckpt/keras_metadata.pb (deflated 83%)\n",
            "  adding: model/checkpoint/model.06.ckpt/variables/ (stored 0%)\n",
            "  adding: model/checkpoint/model.06.ckpt/variables/variables.index (deflated 54%)\n",
            "  adding: model/checkpoint/model.06.ckpt/variables/variables.data-00000-of-00001 (deflated 70%)\n",
            "  adding: model/checkpoint/model.06.ckpt/assets/ (stored 0%)\n",
            "  adding: model/checkpoint/model.06.ckpt/saved_model.pb (deflated 86%)\n",
            "  adding: model/checkpoint/model.06.ckpt/fingerprint.pb (stored 0%)\n",
            "  adding: model/checkpoint/model.03.ckpt/ (stored 0%)\n",
            "  adding: model/checkpoint/model.03.ckpt/keras_metadata.pb (deflated 83%)\n",
            "  adding: model/checkpoint/model.03.ckpt/variables/ (stored 0%)\n",
            "  adding: model/checkpoint/model.03.ckpt/variables/variables.index (deflated 54%)\n",
            "  adding: model/checkpoint/model.03.ckpt/variables/variables.data-00000-of-00001 (deflated 70%)\n",
            "  adding: model/checkpoint/model.03.ckpt/assets/ (stored 0%)\n",
            "  adding: model/checkpoint/model.03.ckpt/saved_model.pb (deflated 86%)\n",
            "  adding: model/checkpoint/model.03.ckpt/fingerprint.pb (stored 0%)\n",
            "  adding: model/after_train/ (stored 0%)\n",
            "  adding: model/after_train/keras_metadata.pb (deflated 83%)\n",
            "  adding: model/after_train/variables/ (stored 0%)\n",
            "  adding: model/after_train/variables/variables.index (deflated 54%)\n",
            "  adding: model/after_train/variables/variables.data-00000-of-00001 (deflated 70%)\n",
            "  adding: model/after_train/assets/ (stored 0%)\n",
            "  adding: model/after_train/saved_model.pb (deflated 86%)\n",
            "  adding: model/after_train/fingerprint.pb (stored 0%)\n",
            "  adding: model/model_json.json (deflated 72%)\n",
            "  adding: model/before_train.h5 (deflated 90%)\n"
          ]
        }
      ]
    },
    {
      "cell_type": "code",
      "source": [
        "from google.colab import files\n",
        "files.download(\"model.zip\")\n",
        "\n",
        "#sys.stdout.close()"
      ],
      "metadata": {
        "colab": {
          "base_uri": "https://localhost:8080/",
          "height": 17
        },
        "id": "_j6g26FPpyiF",
        "outputId": "6b06aa3a-d4de-4900-a80a-bc4d90d2a925"
      },
      "execution_count": null,
      "outputs": [
        {
          "output_type": "display_data",
          "data": {
            "text/plain": [
              "<IPython.core.display.Javascript object>"
            ],
            "application/javascript": [
              "\n",
              "    async function download(id, filename, size) {\n",
              "      if (!google.colab.kernel.accessAllowed) {\n",
              "        return;\n",
              "      }\n",
              "      const div = document.createElement('div');\n",
              "      const label = document.createElement('label');\n",
              "      label.textContent = `Downloading \"${filename}\": `;\n",
              "      div.appendChild(label);\n",
              "      const progress = document.createElement('progress');\n",
              "      progress.max = size;\n",
              "      div.appendChild(progress);\n",
              "      document.body.appendChild(div);\n",
              "\n",
              "      const buffers = [];\n",
              "      let downloaded = 0;\n",
              "\n",
              "      const channel = await google.colab.kernel.comms.open(id);\n",
              "      // Send a message to notify the kernel that we're ready.\n",
              "      channel.send({})\n",
              "\n",
              "      for await (const message of channel.messages) {\n",
              "        // Send a message to notify the kernel that we're ready.\n",
              "        channel.send({})\n",
              "        if (message.buffers) {\n",
              "          for (const buffer of message.buffers) {\n",
              "            buffers.push(buffer);\n",
              "            downloaded += buffer.byteLength;\n",
              "            progress.value = downloaded;\n",
              "          }\n",
              "        }\n",
              "      }\n",
              "      const blob = new Blob(buffers, {type: 'application/binary'});\n",
              "      const a = document.createElement('a');\n",
              "      a.href = window.URL.createObjectURL(blob);\n",
              "      a.download = filename;\n",
              "      div.appendChild(a);\n",
              "      a.click();\n",
              "      div.remove();\n",
              "    }\n",
              "  "
            ]
          },
          "metadata": {}
        },
        {
          "output_type": "display_data",
          "data": {
            "text/plain": [
              "<IPython.core.display.Javascript object>"
            ],
            "application/javascript": [
              "download(\"download_b93cb701-a8cd-4c00-a3ea-ba49a68a6ebf\", \"model.zip\", 151877)"
            ]
          },
          "metadata": {}
        }
      ]
    },
    {
      "cell_type": "code",
      "source": [
        "#print(x_train, \"\\n\", y_train)"
      ],
      "metadata": {
        "id": "F4MUVpIVKWZP"
      },
      "execution_count": null,
      "outputs": []
    }
  ]
}