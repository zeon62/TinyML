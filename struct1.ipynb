{
  "nbformat": 4,
  "nbformat_minor": 0,
  "metadata": {
    "colab": {
      "provenance": [],
      "authorship_tag": "ABX9TyNz8wKc+KEU08d7+7UrR8J4",
      "include_colab_link": true
    },
    "kernelspec": {
      "name": "python3",
      "display_name": "Python 3"
    },
    "language_info": {
      "name": "python"
    },
    "accelerator": "GPU",
    "gpuClass": "standard"
  },
  "cells": [
    {
      "cell_type": "markdown",
      "metadata": {
        "id": "view-in-github",
        "colab_type": "text"
      },
      "source": [
        "<a href=\"https://colab.research.google.com/github/zeon62/TinyML/blob/main/struct1.ipynb\" target=\"_parent\"><img src=\"https://colab.research.google.com/assets/colab-badge.svg\" alt=\"Open In Colab\"/></a>"
      ]
    },
    {
      "cell_type": "markdown",
      "source": [
        "**TENSORFLOW VERSION**"
      ],
      "metadata": {
        "id": "fRAI3Ltflzdg"
      }
    },
    {
      "cell_type": "code",
      "execution_count": null,
      "metadata": {
        "colab": {
          "base_uri": "https://localhost:8080/"
        },
        "id": "COuKnvwKkUvZ",
        "outputId": "092512f3-8161-40df-ea9f-02fed308e468"
      },
      "outputs": [
        {
          "output_type": "stream",
          "name": "stdout",
          "text": [
            "Looking in indexes: https://pypi.org/simple, https://us-python.pkg.dev/colab-wheels/public/simple/\n",
            "Requirement already satisfied: tensorflow==2.9.2 in /usr/local/lib/python3.8/dist-packages (2.9.2)\n",
            "Requirement already satisfied: setuptools in /usr/local/lib/python3.8/dist-packages (from tensorflow==2.9.2) (57.4.0)\n",
            "Requirement already satisfied: grpcio<2.0,>=1.24.3 in /usr/local/lib/python3.8/dist-packages (from tensorflow==2.9.2) (1.51.1)\n",
            "Requirement already satisfied: tensorflow-io-gcs-filesystem>=0.23.1 in /usr/local/lib/python3.8/dist-packages (from tensorflow==2.9.2) (0.28.0)\n",
            "Requirement already satisfied: packaging in /usr/local/lib/python3.8/dist-packages (from tensorflow==2.9.2) (21.3)\n",
            "Requirement already satisfied: h5py>=2.9.0 in /usr/local/lib/python3.8/dist-packages (from tensorflow==2.9.2) (3.1.0)\n",
            "Requirement already satisfied: flatbuffers<2,>=1.12 in /usr/local/lib/python3.8/dist-packages (from tensorflow==2.9.2) (1.12)\n",
            "Requirement already satisfied: protobuf<3.20,>=3.9.2 in /usr/local/lib/python3.8/dist-packages (from tensorflow==2.9.2) (3.19.6)\n",
            "Requirement already satisfied: opt-einsum>=2.3.2 in /usr/local/lib/python3.8/dist-packages (from tensorflow==2.9.2) (3.3.0)\n",
            "Requirement already satisfied: google-pasta>=0.1.1 in /usr/local/lib/python3.8/dist-packages (from tensorflow==2.9.2) (0.2.0)\n",
            "Requirement already satisfied: keras-preprocessing>=1.1.1 in /usr/local/lib/python3.8/dist-packages (from tensorflow==2.9.2) (1.1.2)\n",
            "Requirement already satisfied: termcolor>=1.1.0 in /usr/local/lib/python3.8/dist-packages (from tensorflow==2.9.2) (2.1.1)\n",
            "Requirement already satisfied: astunparse>=1.6.0 in /usr/local/lib/python3.8/dist-packages (from tensorflow==2.9.2) (1.6.3)\n",
            "Requirement already satisfied: gast<=0.4.0,>=0.2.1 in /usr/local/lib/python3.8/dist-packages (from tensorflow==2.9.2) (0.4.0)\n",
            "Requirement already satisfied: numpy>=1.20 in /usr/local/lib/python3.8/dist-packages (from tensorflow==2.9.2) (1.21.6)\n",
            "Requirement already satisfied: typing-extensions>=3.6.6 in /usr/local/lib/python3.8/dist-packages (from tensorflow==2.9.2) (4.4.0)\n",
            "Requirement already satisfied: absl-py>=1.0.0 in /usr/local/lib/python3.8/dist-packages (from tensorflow==2.9.2) (1.3.0)\n",
            "Requirement already satisfied: libclang>=13.0.0 in /usr/local/lib/python3.8/dist-packages (from tensorflow==2.9.2) (14.0.6)\n",
            "Requirement already satisfied: tensorboard<2.10,>=2.9 in /usr/local/lib/python3.8/dist-packages (from tensorflow==2.9.2) (2.9.1)\n",
            "Requirement already satisfied: six>=1.12.0 in /usr/local/lib/python3.8/dist-packages (from tensorflow==2.9.2) (1.15.0)\n",
            "Requirement already satisfied: wrapt>=1.11.0 in /usr/local/lib/python3.8/dist-packages (from tensorflow==2.9.2) (1.14.1)\n",
            "Requirement already satisfied: keras<2.10.0,>=2.9.0rc0 in /usr/local/lib/python3.8/dist-packages (from tensorflow==2.9.2) (2.9.0)\n",
            "Requirement already satisfied: tensorflow-estimator<2.10.0,>=2.9.0rc0 in /usr/local/lib/python3.8/dist-packages (from tensorflow==2.9.2) (2.9.0)\n",
            "Requirement already satisfied: wheel<1.0,>=0.23.0 in /usr/local/lib/python3.8/dist-packages (from astunparse>=1.6.0->tensorflow==2.9.2) (0.38.4)\n",
            "Requirement already satisfied: google-auth-oauthlib<0.5,>=0.4.1 in /usr/local/lib/python3.8/dist-packages (from tensorboard<2.10,>=2.9->tensorflow==2.9.2) (0.4.6)\n",
            "Requirement already satisfied: google-auth<3,>=1.6.3 in /usr/local/lib/python3.8/dist-packages (from tensorboard<2.10,>=2.9->tensorflow==2.9.2) (2.15.0)\n",
            "Requirement already satisfied: tensorboard-plugin-wit>=1.6.0 in /usr/local/lib/python3.8/dist-packages (from tensorboard<2.10,>=2.9->tensorflow==2.9.2) (1.8.1)\n",
            "Requirement already satisfied: werkzeug>=1.0.1 in /usr/local/lib/python3.8/dist-packages (from tensorboard<2.10,>=2.9->tensorflow==2.9.2) (1.0.1)\n",
            "Requirement already satisfied: requests<3,>=2.21.0 in /usr/local/lib/python3.8/dist-packages (from tensorboard<2.10,>=2.9->tensorflow==2.9.2) (2.23.0)\n",
            "Requirement already satisfied: markdown>=2.6.8 in /usr/local/lib/python3.8/dist-packages (from tensorboard<2.10,>=2.9->tensorflow==2.9.2) (3.4.1)\n",
            "Requirement already satisfied: tensorboard-data-server<0.7.0,>=0.6.0 in /usr/local/lib/python3.8/dist-packages (from tensorboard<2.10,>=2.9->tensorflow==2.9.2) (0.6.1)\n",
            "Requirement already satisfied: pyasn1-modules>=0.2.1 in /usr/local/lib/python3.8/dist-packages (from google-auth<3,>=1.6.3->tensorboard<2.10,>=2.9->tensorflow==2.9.2) (0.2.8)\n",
            "Requirement already satisfied: rsa<5,>=3.1.4 in /usr/local/lib/python3.8/dist-packages (from google-auth<3,>=1.6.3->tensorboard<2.10,>=2.9->tensorflow==2.9.2) (4.9)\n",
            "Requirement already satisfied: cachetools<6.0,>=2.0.0 in /usr/local/lib/python3.8/dist-packages (from google-auth<3,>=1.6.3->tensorboard<2.10,>=2.9->tensorflow==2.9.2) (5.2.0)\n",
            "Requirement already satisfied: requests-oauthlib>=0.7.0 in /usr/local/lib/python3.8/dist-packages (from google-auth-oauthlib<0.5,>=0.4.1->tensorboard<2.10,>=2.9->tensorflow==2.9.2) (1.3.1)\n",
            "Requirement already satisfied: importlib-metadata>=4.4 in /usr/local/lib/python3.8/dist-packages (from markdown>=2.6.8->tensorboard<2.10,>=2.9->tensorflow==2.9.2) (5.1.0)\n",
            "Requirement already satisfied: zipp>=0.5 in /usr/local/lib/python3.8/dist-packages (from importlib-metadata>=4.4->markdown>=2.6.8->tensorboard<2.10,>=2.9->tensorflow==2.9.2) (3.11.0)\n",
            "Requirement already satisfied: pyasn1<0.5.0,>=0.4.6 in /usr/local/lib/python3.8/dist-packages (from pyasn1-modules>=0.2.1->google-auth<3,>=1.6.3->tensorboard<2.10,>=2.9->tensorflow==2.9.2) (0.4.8)\n",
            "Requirement already satisfied: idna<3,>=2.5 in /usr/local/lib/python3.8/dist-packages (from requests<3,>=2.21.0->tensorboard<2.10,>=2.9->tensorflow==2.9.2) (2.10)\n",
            "Requirement already satisfied: certifi>=2017.4.17 in /usr/local/lib/python3.8/dist-packages (from requests<3,>=2.21.0->tensorboard<2.10,>=2.9->tensorflow==2.9.2) (2022.12.7)\n",
            "Requirement already satisfied: urllib3!=1.25.0,!=1.25.1,<1.26,>=1.21.1 in /usr/local/lib/python3.8/dist-packages (from requests<3,>=2.21.0->tensorboard<2.10,>=2.9->tensorflow==2.9.2) (1.24.3)\n",
            "Requirement already satisfied: chardet<4,>=3.0.2 in /usr/local/lib/python3.8/dist-packages (from requests<3,>=2.21.0->tensorboard<2.10,>=2.9->tensorflow==2.9.2) (3.0.4)\n",
            "Requirement already satisfied: oauthlib>=3.0.0 in /usr/local/lib/python3.8/dist-packages (from requests-oauthlib>=0.7.0->google-auth-oauthlib<0.5,>=0.4.1->tensorboard<2.10,>=2.9->tensorflow==2.9.2) (3.2.2)\n",
            "Requirement already satisfied: pyparsing!=3.0.5,>=2.0.2 in /usr/local/lib/python3.8/dist-packages (from packaging->tensorflow==2.9.2) (3.0.9)\n"
          ]
        }
      ],
      "source": [
        "!pip install tensorflow==2.9.2"
      ]
    },
    {
      "cell_type": "code",
      "source": [
        "import tensorflow as tf\n",
        "import numpy as np\n",
        "import matplotlib.pyplot as plt\n",
        "import math"
      ],
      "metadata": {
        "id": "ZTU29z5jlMw6"
      },
      "execution_count": null,
      "outputs": []
    },
    {
      "cell_type": "code",
      "source": [
        "SAMPLES = 1000\n",
        "SEED = 1337\n",
        "np.random.seed(SEED)\n",
        "tf.random.set_seed(SEED)\n",
        "\n",
        "x_values = np.random.uniform(low=0, high=2*math.pi, size=SAMPLES)\n",
        "np.random.shuffle(x_values)\n",
        "y_values = np.sin(x_values)"
      ],
      "metadata": {
        "id": "coPxVy-smFgH"
      },
      "execution_count": null,
      "outputs": []
    },
    {
      "cell_type": "code",
      "source": [
        "y_values += 0.1 * np.random.randn(*y_values.shape)"
      ],
      "metadata": {
        "id": "gXvolACQmZNJ"
      },
      "execution_count": null,
      "outputs": []
    },
    {
      "cell_type": "code",
      "source": [
        "TRAIN_SPLIT = int(0.6*SAMPLES)\n",
        "TEST_SPLIT = int(0.2*SAMPLES + TRAIN_SPLIT)\n",
        "\n",
        "x_train, x_validate, x_test = np.split(x_values, [TRAIN_SPLIT, TEST_SPLIT])\n",
        "y_train, y_validate, y_test = np.split(y_values, [TRAIN_SPLIT, TEST_SPLIT])"
      ],
      "metadata": {
        "id": "T6B03CmYmZ93"
      },
      "execution_count": null,
      "outputs": []
    },
    {
      "cell_type": "code",
      "source": [
        "from tensorflow.keras import layers\n",
        "model_1 = tf.keras.Sequential()\n",
        "model_1.add(layers.Dense(16, activation = 'relu', input_shape = (1,)))\n",
        "model_1.add(layers.Dense(1))\n",
        "model_1.compile(optimizer = 'rmsprop', loss='mse', metrics=['mae'])\n",
        "model_1.save(\"model.h5\")\n",
        "model_1.summary()"
      ],
      "metadata": {
        "colab": {
          "base_uri": "https://localhost:8080/"
        },
        "id": "f1rMOsJvlTDu",
        "outputId": "baf1a9e6-d837-4935-efe3-7b04b25b3d8d"
      },
      "execution_count": null,
      "outputs": [
        {
          "output_type": "stream",
          "name": "stdout",
          "text": [
            "Model: \"sequential_3\"\n",
            "_________________________________________________________________\n",
            " Layer (type)                Output Shape              Param #   \n",
            "=================================================================\n",
            " dense_6 (Dense)             (None, 16)                32        \n",
            "                                                                 \n",
            " dense_7 (Dense)             (None, 1)                 17        \n",
            "                                                                 \n",
            "=================================================================\n",
            "Total params: 49\n",
            "Trainable params: 49\n",
            "Non-trainable params: 0\n",
            "_________________________________________________________________\n"
          ]
        }
      ]
    },
    {
      "cell_type": "code",
      "source": [
        "history_1 = model_1.fit(x_train, y_train, epochs=100, batch_size=16, validation_data=(x_validate, y_validate))"
      ],
      "metadata": {
        "colab": {
          "base_uri": "https://localhost:8080/"
        },
        "id": "14jhbsV9lWfw",
        "outputId": "f625193e-c2ad-48c8-ac56-0889a7556491"
      },
      "execution_count": null,
      "outputs": [
        {
          "output_type": "stream",
          "name": "stdout",
          "text": [
            "Epoch 1/100\n",
            "38/38 [==============================] - 1s 9ms/step - loss: 0.4740 - mae: 0.6116 - val_loss: 0.4833 - val_mae: 0.6116\n",
            "Epoch 2/100\n",
            "38/38 [==============================] - 0s 5ms/step - loss: 0.4448 - mae: 0.5910 - val_loss: 0.4578 - val_mae: 0.5943\n",
            "Epoch 3/100\n",
            "38/38 [==============================] - 0s 4ms/step - loss: 0.4220 - mae: 0.5736 - val_loss: 0.4352 - val_mae: 0.5778\n",
            "Epoch 4/100\n",
            "38/38 [==============================] - 0s 4ms/step - loss: 0.4009 - mae: 0.5578 - val_loss: 0.4138 - val_mae: 0.5614\n",
            "Epoch 5/100\n",
            "38/38 [==============================] - 0s 5ms/step - loss: 0.3807 - mae: 0.5421 - val_loss: 0.3917 - val_mae: 0.5442\n",
            "Epoch 6/100\n",
            "38/38 [==============================] - 0s 6ms/step - loss: 0.3597 - mae: 0.5262 - val_loss: 0.3708 - val_mae: 0.5283\n",
            "Epoch 7/100\n",
            "38/38 [==============================] - 0s 4ms/step - loss: 0.3409 - mae: 0.5112 - val_loss: 0.3514 - val_mae: 0.5131\n",
            "Epoch 8/100\n",
            "38/38 [==============================] - 0s 4ms/step - loss: 0.3230 - mae: 0.4968 - val_loss: 0.3324 - val_mae: 0.4984\n",
            "Epoch 9/100\n",
            "38/38 [==============================] - 0s 4ms/step - loss: 0.3051 - mae: 0.4827 - val_loss: 0.3137 - val_mae: 0.4829\n",
            "Epoch 10/100\n",
            "38/38 [==============================] - 0s 4ms/step - loss: 0.2880 - mae: 0.4693 - val_loss: 0.2959 - val_mae: 0.4688\n",
            "Epoch 11/100\n",
            "38/38 [==============================] - 0s 4ms/step - loss: 0.2723 - mae: 0.4566 - val_loss: 0.2801 - val_mae: 0.4572\n",
            "Epoch 12/100\n",
            "38/38 [==============================] - 0s 4ms/step - loss: 0.2572 - mae: 0.4442 - val_loss: 0.2645 - val_mae: 0.4450\n",
            "Epoch 13/100\n",
            "38/38 [==============================] - 0s 5ms/step - loss: 0.2427 - mae: 0.4318 - val_loss: 0.2494 - val_mae: 0.4331\n",
            "Epoch 14/100\n",
            "38/38 [==============================] - 0s 4ms/step - loss: 0.2293 - mae: 0.4199 - val_loss: 0.2351 - val_mae: 0.4213\n",
            "Epoch 15/100\n",
            "38/38 [==============================] - 0s 4ms/step - loss: 0.2162 - mae: 0.4088 - val_loss: 0.2219 - val_mae: 0.4102\n",
            "Epoch 16/100\n",
            "38/38 [==============================] - 0s 7ms/step - loss: 0.2043 - mae: 0.3982 - val_loss: 0.2096 - val_mae: 0.3994\n",
            "Epoch 17/100\n",
            "38/38 [==============================] - 0s 7ms/step - loss: 0.1932 - mae: 0.3882 - val_loss: 0.1985 - val_mae: 0.3891\n",
            "Epoch 18/100\n",
            "38/38 [==============================] - 0s 6ms/step - loss: 0.1833 - mae: 0.3792 - val_loss: 0.1882 - val_mae: 0.3792\n",
            "Epoch 19/100\n",
            "38/38 [==============================] - 0s 7ms/step - loss: 0.1739 - mae: 0.3698 - val_loss: 0.1786 - val_mae: 0.3693\n",
            "Epoch 20/100\n",
            "38/38 [==============================] - 0s 8ms/step - loss: 0.1655 - mae: 0.3608 - val_loss: 0.1701 - val_mae: 0.3599\n",
            "Epoch 21/100\n",
            "38/38 [==============================] - 0s 9ms/step - loss: 0.1585 - mae: 0.3527 - val_loss: 0.1632 - val_mae: 0.3527\n",
            "Epoch 22/100\n",
            "38/38 [==============================] - 0s 8ms/step - loss: 0.1529 - mae: 0.3463 - val_loss: 0.1575 - val_mae: 0.3461\n",
            "Epoch 23/100\n",
            "38/38 [==============================] - 0s 6ms/step - loss: 0.1479 - mae: 0.3394 - val_loss: 0.1528 - val_mae: 0.3407\n",
            "Epoch 24/100\n",
            "38/38 [==============================] - 0s 7ms/step - loss: 0.1435 - mae: 0.3337 - val_loss: 0.1480 - val_mae: 0.3348\n",
            "Epoch 25/100\n",
            "38/38 [==============================] - 0s 8ms/step - loss: 0.1398 - mae: 0.3287 - val_loss: 0.1440 - val_mae: 0.3296\n",
            "Epoch 26/100\n",
            "38/38 [==============================] - 0s 7ms/step - loss: 0.1364 - mae: 0.3232 - val_loss: 0.1408 - val_mae: 0.3255\n",
            "Epoch 27/100\n",
            "38/38 [==============================] - 0s 7ms/step - loss: 0.1339 - mae: 0.3193 - val_loss: 0.1380 - val_mae: 0.3218\n",
            "Epoch 28/100\n",
            "38/38 [==============================] - 0s 7ms/step - loss: 0.1314 - mae: 0.3154 - val_loss: 0.1356 - val_mae: 0.3186\n",
            "Epoch 29/100\n",
            "38/38 [==============================] - 0s 6ms/step - loss: 0.1295 - mae: 0.3120 - val_loss: 0.1336 - val_mae: 0.3158\n",
            "Epoch 30/100\n",
            "38/38 [==============================] - 0s 10ms/step - loss: 0.1278 - mae: 0.3092 - val_loss: 0.1317 - val_mae: 0.3132\n",
            "Epoch 31/100\n",
            "38/38 [==============================] - 0s 7ms/step - loss: 0.1260 - mae: 0.3061 - val_loss: 0.1298 - val_mae: 0.3104\n",
            "Epoch 32/100\n",
            "38/38 [==============================] - 0s 7ms/step - loss: 0.1246 - mae: 0.3034 - val_loss: 0.1283 - val_mae: 0.3079\n",
            "Epoch 33/100\n",
            "38/38 [==============================] - 0s 8ms/step - loss: 0.1233 - mae: 0.3009 - val_loss: 0.1268 - val_mae: 0.3060\n",
            "Epoch 34/100\n",
            "38/38 [==============================] - 0s 8ms/step - loss: 0.1220 - mae: 0.2988 - val_loss: 0.1254 - val_mae: 0.3038\n",
            "Epoch 35/100\n",
            "38/38 [==============================] - 0s 9ms/step - loss: 0.1208 - mae: 0.2965 - val_loss: 0.1241 - val_mae: 0.3018\n",
            "Epoch 36/100\n",
            "38/38 [==============================] - 0s 7ms/step - loss: 0.1197 - mae: 0.2947 - val_loss: 0.1230 - val_mae: 0.3000\n",
            "Epoch 37/100\n",
            "38/38 [==============================] - 0s 6ms/step - loss: 0.1185 - mae: 0.2928 - val_loss: 0.1218 - val_mae: 0.2980\n",
            "Epoch 38/100\n",
            "38/38 [==============================] - 0s 8ms/step - loss: 0.1174 - mae: 0.2909 - val_loss: 0.1206 - val_mae: 0.2963\n",
            "Epoch 39/100\n",
            "38/38 [==============================] - 0s 9ms/step - loss: 0.1163 - mae: 0.2890 - val_loss: 0.1195 - val_mae: 0.2944\n",
            "Epoch 40/100\n",
            "38/38 [==============================] - 0s 8ms/step - loss: 0.1150 - mae: 0.2870 - val_loss: 0.1181 - val_mae: 0.2930\n",
            "Epoch 41/100\n",
            "38/38 [==============================] - 0s 9ms/step - loss: 0.1138 - mae: 0.2848 - val_loss: 0.1168 - val_mae: 0.2906\n",
            "Epoch 42/100\n",
            "38/38 [==============================] - 0s 8ms/step - loss: 0.1127 - mae: 0.2834 - val_loss: 0.1156 - val_mae: 0.2894\n",
            "Epoch 43/100\n",
            "38/38 [==============================] - 0s 9ms/step - loss: 0.1115 - mae: 0.2815 - val_loss: 0.1144 - val_mae: 0.2873\n",
            "Epoch 44/100\n",
            "38/38 [==============================] - 0s 11ms/step - loss: 0.1104 - mae: 0.2802 - val_loss: 0.1132 - val_mae: 0.2859\n",
            "Epoch 45/100\n",
            "38/38 [==============================] - 0s 8ms/step - loss: 0.1092 - mae: 0.2783 - val_loss: 0.1120 - val_mae: 0.2837\n",
            "Epoch 46/100\n",
            "38/38 [==============================] - 0s 7ms/step - loss: 0.1081 - mae: 0.2765 - val_loss: 0.1108 - val_mae: 0.2820\n",
            "Epoch 47/100\n",
            "38/38 [==============================] - 0s 8ms/step - loss: 0.1069 - mae: 0.2749 - val_loss: 0.1096 - val_mae: 0.2802\n",
            "Epoch 48/100\n",
            "38/38 [==============================] - 0s 8ms/step - loss: 0.1056 - mae: 0.2730 - val_loss: 0.1084 - val_mae: 0.2783\n",
            "Epoch 49/100\n",
            "38/38 [==============================] - 0s 9ms/step - loss: 0.1043 - mae: 0.2710 - val_loss: 0.1071 - val_mae: 0.2764\n",
            "Epoch 50/100\n",
            "38/38 [==============================] - 0s 9ms/step - loss: 0.1033 - mae: 0.2696 - val_loss: 0.1059 - val_mae: 0.2751\n",
            "Epoch 51/100\n",
            "38/38 [==============================] - 0s 9ms/step - loss: 0.1021 - mae: 0.2678 - val_loss: 0.1048 - val_mae: 0.2730\n",
            "Epoch 52/100\n",
            "38/38 [==============================] - 0s 10ms/step - loss: 0.1008 - mae: 0.2658 - val_loss: 0.1034 - val_mae: 0.2713\n",
            "Epoch 53/100\n",
            "38/38 [==============================] - 0s 10ms/step - loss: 0.0993 - mae: 0.2641 - val_loss: 0.1020 - val_mae: 0.2687\n",
            "Epoch 54/100\n",
            "38/38 [==============================] - 0s 10ms/step - loss: 0.0980 - mae: 0.2617 - val_loss: 0.1005 - val_mae: 0.2669\n",
            "Epoch 55/100\n",
            "38/38 [==============================] - 0s 8ms/step - loss: 0.0965 - mae: 0.2594 - val_loss: 0.0991 - val_mae: 0.2643\n",
            "Epoch 56/100\n",
            "38/38 [==============================] - 0s 8ms/step - loss: 0.0951 - mae: 0.2576 - val_loss: 0.0978 - val_mae: 0.2627\n",
            "Epoch 57/100\n",
            "38/38 [==============================] - 0s 8ms/step - loss: 0.0938 - mae: 0.2552 - val_loss: 0.0963 - val_mae: 0.2601\n",
            "Epoch 58/100\n",
            "38/38 [==============================] - 0s 7ms/step - loss: 0.0923 - mae: 0.2526 - val_loss: 0.0949 - val_mae: 0.2581\n",
            "Epoch 59/100\n",
            "38/38 [==============================] - 0s 8ms/step - loss: 0.0911 - mae: 0.2508 - val_loss: 0.0935 - val_mae: 0.2555\n",
            "Epoch 60/100\n",
            "38/38 [==============================] - 0s 9ms/step - loss: 0.0896 - mae: 0.2485 - val_loss: 0.0922 - val_mae: 0.2533\n",
            "Epoch 61/100\n",
            "38/38 [==============================] - 0s 8ms/step - loss: 0.0882 - mae: 0.2457 - val_loss: 0.0907 - val_mae: 0.2508\n",
            "Epoch 62/100\n",
            "38/38 [==============================] - 0s 8ms/step - loss: 0.0868 - mae: 0.2444 - val_loss: 0.0894 - val_mae: 0.2483\n",
            "Epoch 63/100\n",
            "38/38 [==============================] - 0s 7ms/step - loss: 0.0855 - mae: 0.2416 - val_loss: 0.0879 - val_mae: 0.2456\n",
            "Epoch 64/100\n",
            "38/38 [==============================] - 0s 9ms/step - loss: 0.0841 - mae: 0.2386 - val_loss: 0.0865 - val_mae: 0.2431\n",
            "Epoch 65/100\n",
            "38/38 [==============================] - 0s 9ms/step - loss: 0.0826 - mae: 0.2360 - val_loss: 0.0851 - val_mae: 0.2404\n",
            "Epoch 66/100\n",
            "38/38 [==============================] - 0s 7ms/step - loss: 0.0811 - mae: 0.2333 - val_loss: 0.0837 - val_mae: 0.2379\n",
            "Epoch 67/100\n",
            "38/38 [==============================] - 0s 8ms/step - loss: 0.0798 - mae: 0.2307 - val_loss: 0.0821 - val_mae: 0.2348\n",
            "Epoch 68/100\n",
            "38/38 [==============================] - 0s 9ms/step - loss: 0.0784 - mae: 0.2284 - val_loss: 0.0807 - val_mae: 0.2321\n",
            "Epoch 69/100\n",
            "38/38 [==============================] - 0s 8ms/step - loss: 0.0770 - mae: 0.2256 - val_loss: 0.0794 - val_mae: 0.2292\n",
            "Epoch 70/100\n",
            "38/38 [==============================] - 0s 11ms/step - loss: 0.0757 - mae: 0.2228 - val_loss: 0.0781 - val_mae: 0.2266\n",
            "Epoch 71/100\n",
            "38/38 [==============================] - 0s 11ms/step - loss: 0.0743 - mae: 0.2196 - val_loss: 0.0766 - val_mae: 0.2238\n",
            "Epoch 72/100\n",
            "38/38 [==============================] - 0s 5ms/step - loss: 0.0728 - mae: 0.2173 - val_loss: 0.0752 - val_mae: 0.2206\n",
            "Epoch 73/100\n",
            "38/38 [==============================] - 0s 4ms/step - loss: 0.0714 - mae: 0.2140 - val_loss: 0.0739 - val_mae: 0.2178\n",
            "Epoch 74/100\n",
            "38/38 [==============================] - 0s 4ms/step - loss: 0.0700 - mae: 0.2118 - val_loss: 0.0726 - val_mae: 0.2145\n",
            "Epoch 75/100\n",
            "38/38 [==============================] - 0s 5ms/step - loss: 0.0689 - mae: 0.2087 - val_loss: 0.0715 - val_mae: 0.2119\n",
            "Epoch 76/100\n",
            "38/38 [==============================] - 0s 4ms/step - loss: 0.0677 - mae: 0.2058 - val_loss: 0.0703 - val_mae: 0.2092\n",
            "Epoch 77/100\n",
            "38/38 [==============================] - 0s 4ms/step - loss: 0.0665 - mae: 0.2034 - val_loss: 0.0692 - val_mae: 0.2065\n",
            "Epoch 78/100\n",
            "38/38 [==============================] - 0s 4ms/step - loss: 0.0654 - mae: 0.2006 - val_loss: 0.0680 - val_mae: 0.2030\n",
            "Epoch 79/100\n",
            "38/38 [==============================] - 0s 4ms/step - loss: 0.0642 - mae: 0.1971 - val_loss: 0.0670 - val_mae: 0.2001\n",
            "Epoch 80/100\n",
            "38/38 [==============================] - 0s 5ms/step - loss: 0.0631 - mae: 0.1945 - val_loss: 0.0657 - val_mae: 0.1970\n",
            "Epoch 81/100\n",
            "38/38 [==============================] - 0s 5ms/step - loss: 0.0622 - mae: 0.1917 - val_loss: 0.0649 - val_mae: 0.1945\n",
            "Epoch 82/100\n",
            "38/38 [==============================] - 0s 4ms/step - loss: 0.0614 - mae: 0.1894 - val_loss: 0.0641 - val_mae: 0.1919\n",
            "Epoch 83/100\n",
            "38/38 [==============================] - 0s 4ms/step - loss: 0.0605 - mae: 0.1868 - val_loss: 0.0632 - val_mae: 0.1897\n",
            "Epoch 84/100\n",
            "38/38 [==============================] - 0s 4ms/step - loss: 0.0598 - mae: 0.1853 - val_loss: 0.0625 - val_mae: 0.1874\n",
            "Epoch 85/100\n",
            "38/38 [==============================] - 0s 5ms/step - loss: 0.0591 - mae: 0.1825 - val_loss: 0.0618 - val_mae: 0.1856\n",
            "Epoch 86/100\n",
            "38/38 [==============================] - 0s 4ms/step - loss: 0.0585 - mae: 0.1810 - val_loss: 0.0613 - val_mae: 0.1841\n",
            "Epoch 87/100\n",
            "38/38 [==============================] - 0s 5ms/step - loss: 0.0579 - mae: 0.1799 - val_loss: 0.0607 - val_mae: 0.1820\n",
            "Epoch 88/100\n",
            "38/38 [==============================] - 0s 4ms/step - loss: 0.0574 - mae: 0.1788 - val_loss: 0.0603 - val_mae: 0.1807\n",
            "Epoch 89/100\n",
            "38/38 [==============================] - 0s 4ms/step - loss: 0.0568 - mae: 0.1771 - val_loss: 0.0597 - val_mae: 0.1789\n",
            "Epoch 90/100\n",
            "38/38 [==============================] - 0s 4ms/step - loss: 0.0564 - mae: 0.1764 - val_loss: 0.0593 - val_mae: 0.1778\n",
            "Epoch 91/100\n",
            "38/38 [==============================] - 0s 4ms/step - loss: 0.0560 - mae: 0.1752 - val_loss: 0.0591 - val_mae: 0.1772\n",
            "Epoch 92/100\n",
            "38/38 [==============================] - 0s 4ms/step - loss: 0.0557 - mae: 0.1750 - val_loss: 0.0586 - val_mae: 0.1760\n",
            "Epoch 93/100\n",
            "38/38 [==============================] - 0s 4ms/step - loss: 0.0555 - mae: 0.1738 - val_loss: 0.0585 - val_mae: 0.1753\n",
            "Epoch 94/100\n",
            "38/38 [==============================] - 0s 4ms/step - loss: 0.0552 - mae: 0.1740 - val_loss: 0.0581 - val_mae: 0.1741\n",
            "Epoch 95/100\n",
            "38/38 [==============================] - 0s 4ms/step - loss: 0.0550 - mae: 0.1728 - val_loss: 0.0579 - val_mae: 0.1733\n",
            "Epoch 96/100\n",
            "38/38 [==============================] - 0s 4ms/step - loss: 0.0549 - mae: 0.1730 - val_loss: 0.0578 - val_mae: 0.1734\n",
            "Epoch 97/100\n",
            "38/38 [==============================] - 0s 4ms/step - loss: 0.0546 - mae: 0.1725 - val_loss: 0.0576 - val_mae: 0.1727\n",
            "Epoch 98/100\n",
            "38/38 [==============================] - 0s 5ms/step - loss: 0.0545 - mae: 0.1717 - val_loss: 0.0575 - val_mae: 0.1729\n",
            "Epoch 99/100\n",
            "38/38 [==============================] - 0s 4ms/step - loss: 0.0543 - mae: 0.1720 - val_loss: 0.0572 - val_mae: 0.1714\n",
            "Epoch 100/100\n",
            "38/38 [==============================] - 0s 4ms/step - loss: 0.0542 - mae: 0.1710 - val_loss: 0.0570 - val_mae: 0.1706\n"
          ]
        }
      ]
    },
    {
      "cell_type": "markdown",
      "source": [
        "**CONVERT**"
      ],
      "metadata": {
        "id": "M0_3ZEuEludw"
      }
    },
    {
      "cell_type": "code",
      "source": [
        "converter = tf.lite.TFLiteConverter.from_keras_model(model_1)\n",
        "tflite_model = converter.convert()\n",
        "\n",
        "open(\"sine_model.tflite\", \"wb\").write(tflite_model)"
      ],
      "metadata": {
        "colab": {
          "base_uri": "https://localhost:8080/"
        },
        "id": "w_Qvf4qUleoI",
        "outputId": "ccfd3854-650b-4bcf-f80a-3343662f2ba0"
      },
      "execution_count": null,
      "outputs": [
        {
          "output_type": "execute_result",
          "data": {
            "text/plain": [
              "1804"
            ]
          },
          "metadata": {},
          "execution_count": 53
        }
      ]
    },
    {
      "cell_type": "code",
      "source": [
        "tf.lite.experimental.Analyzer.analyze(model_content=tflite_model)"
      ],
      "metadata": {
        "colab": {
          "base_uri": "https://localhost:8080/"
        },
        "id": "AuKfUuNIlfon",
        "outputId": "86e60034-7c94-4ea6-e714-e6a5bb0f9c22"
      },
      "execution_count": null,
      "outputs": [
        {
          "output_type": "stream",
          "name": "stdout",
          "text": [
            "=== TFLite ModelAnalyzer ===\n",
            "\n",
            "Your TFLite model has '1' subgraph(s). In the subgraph description below,\n",
            "T# represents the Tensor numbers. For example, in Subgraph#0, the FULLY_CONNECTED op takes\n",
            "tensor #0 and tensor #3 and tensor #2 as input and produces tensor #5 as output.\n",
            "\n",
            "Subgraph#0 main(T#0) -> [T#7]\n",
            "  Op#0 FULLY_CONNECTED(T#0, T#3, T#2) -> [T#5]\n",
            "  Op#1 SOFTMAX(T#5) -> [T#6]\n",
            "  Op#2 FULLY_CONNECTED(T#6, T#4, T#1) -> [T#7]\n",
            "\n",
            "Tensors of Subgraph#0\n",
            "  T#0(serving_default_dense_6_input:0) shape_signature:[-1, 1], type:FLOAT32\n",
            "  T#1(sequential_3/dense_7/BiasAdd/ReadVariableOp) shape:[1], type:FLOAT32 RO 4 bytes\n",
            "  T#2(sequential_3/dense_6/BiasAdd/ReadVariableOp) shape:[16], type:FLOAT32 RO 64 bytes\n",
            "  T#3(sequential_3/dense_6/MatMul) shape:[16, 1], type:FLOAT32 RO 64 bytes\n",
            "  T#4(sequential_3/dense_7/MatMul) shape:[1, 16], type:FLOAT32 RO 64 bytes\n",
            "  T#5(sequential_3/dense_6/MatMul;sequential_3/dense_6/BiasAdd) shape_signature:[-1, 16], type:FLOAT32\n",
            "  T#6(sequential_3/dense_6/Softmax) shape_signature:[-1, 16], type:FLOAT32\n",
            "  T#7(StatefulPartitionedCall:0) shape_signature:[-1, 1], type:FLOAT32\n",
            "\n",
            "---------------------------------------------------------------\n",
            "Your TFLite model has ‘1’ signature_def(s).\n",
            "\n",
            "Signature#0 key: 'serving_default'\n",
            "- Subgraph: Subgraph#0\n",
            "- Inputs: \n",
            "    'dense_6_input' : T#0\n",
            "- Outputs: \n",
            "    'dense_7' : T#7\n",
            "\n",
            "---------------------------------------------------------------\n",
            "              Model size:       1804 bytes\n",
            "    Non-data buffer size:       1508 bytes (83.59 %)\n",
            "  Total data buffer size:        296 bytes (16.41 %)\n",
            "    (Zero value buffers):          0 bytes (00.00 %)\n",
            "\n",
            "* Buffers of TFLite model are mostly used for constant tensors.\n",
            "  And zero value buffers are buffers filled with zeros.\n",
            "  Non-data buffers area are used to store operators, subgraphs and etc.\n",
            "  You can find more details from https://github.com/tensorflow/tensorflow/blob/master/tensorflow/lite/schema/schema.fbs\n",
            "\n"
          ]
        }
      ]
    },
    {
      "cell_type": "code",
      "source": [
        "converter = tf.lite.TFLiteConverter.from_keras_model(model_1)\n",
        "converter.optimizations = [tf.lite.Optimize.DEFAULT]\n",
        "def representative_dataset_generator():\n",
        "    for value in x_test:\n",
        "      yield[np.array(value, dtype = np.float32, ndmin = 2)]\n",
        "converter.representative_dataset = representative_dataset_generator\n",
        "tflite_model = converter.convert()\n",
        "\n",
        "open(\"sine_model_quantized.tflite\", \"wb\").write(tflite_model)"
      ],
      "metadata": {
        "colab": {
          "base_uri": "https://localhost:8080/"
        },
        "id": "q6A-CfWglrCk",
        "outputId": "fa0f34c3-9d5b-4c16-932a-c5432f1dc694"
      },
      "execution_count": null,
      "outputs": [
        {
          "output_type": "stream",
          "name": "stderr",
          "text": [
            "/usr/local/lib/python3.8/dist-packages/tensorflow/lite/python/convert.py:766: UserWarning: Statistics for quantized inputs were expected, but not specified; continuing anyway.\n",
            "  warnings.warn(\"Statistics for quantized inputs were expected, but not \"\n"
          ]
        },
        {
          "output_type": "execute_result",
          "data": {
            "text/plain": [
              "2328"
            ]
          },
          "metadata": {},
          "execution_count": 55
        }
      ]
    },
    {
      "cell_type": "code",
      "source": [
        "import os\n",
        "basic_model_size = os.path.getsize(\"sine_model.tflite\")\n",
        "print(\"Basic model is %d bytes\" % basic_model_size)\n",
        "quantized_model_size = os.path.getsize(\"sine_model_quantized.tflite\")\n",
        "print(\"Quantized model is %d bytes\" % quantized_model_size)\n",
        "difference = basic_model_size - quantized_model_size\n",
        "print(\"Difference is %d bytes\" % difference)"
      ],
      "metadata": {
        "colab": {
          "base_uri": "https://localhost:8080/"
        },
        "id": "yGgeVbkAnX7N",
        "outputId": "5052337a-0bfb-4b18-d3f7-99361d5c0886"
      },
      "execution_count": null,
      "outputs": [
        {
          "output_type": "stream",
          "name": "stdout",
          "text": [
            "Basic model is 1804 bytes\n",
            "Quantized model is 2328 bytes\n",
            "Difference is -524 bytes\n"
          ]
        }
      ]
    },
    {
      "cell_type": "code",
      "source": [
        "!apt-get -qq install xxd\n",
        "!xxd -i sine_model.tflite > sine_model.cc\n",
        "!xxd -i sine_model_quantized.tflite > sine_model_quantized.cc"
      ],
      "metadata": {
        "id": "9ByyXhW6nZxX"
      },
      "execution_count": null,
      "outputs": []
    },
    {
      "cell_type": "code",
      "source": [
        "!xxd -c 16 sine_model_quantized.tflite > testq.cc\n",
        "!xxd -c 16 sine_model.tflite > test.cc"
      ],
      "metadata": {
        "id": "0_i2mmz9nbyE"
      },
      "execution_count": null,
      "outputs": []
    },
    {
      "cell_type": "code",
      "source": [
        "from google.colab import files\n",
        "files.download('model.h5')\n",
        "files.download('sine_model.cc')\n",
        "files.download('sine_model.tflite')\n",
        "files.download('sine_model_quantized.cc')\n",
        "files.download('sine_model_quantized.tflite')\n",
        "files.download('test.cc')\n",
        "files.download('testq.cc')"
      ],
      "metadata": {
        "colab": {
          "base_uri": "https://localhost:8080/",
          "height": 17
        },
        "id": "qZm_QAEFrBQY",
        "outputId": "4081dda1-5788-4f4a-be19-58d096b0b315"
      },
      "execution_count": null,
      "outputs": [
        {
          "output_type": "display_data",
          "data": {
            "text/plain": [
              "<IPython.core.display.Javascript object>"
            ],
            "application/javascript": [
              "\n",
              "    async function download(id, filename, size) {\n",
              "      if (!google.colab.kernel.accessAllowed) {\n",
              "        return;\n",
              "      }\n",
              "      const div = document.createElement('div');\n",
              "      const label = document.createElement('label');\n",
              "      label.textContent = `Downloading \"${filename}\": `;\n",
              "      div.appendChild(label);\n",
              "      const progress = document.createElement('progress');\n",
              "      progress.max = size;\n",
              "      div.appendChild(progress);\n",
              "      document.body.appendChild(div);\n",
              "\n",
              "      const buffers = [];\n",
              "      let downloaded = 0;\n",
              "\n",
              "      const channel = await google.colab.kernel.comms.open(id);\n",
              "      // Send a message to notify the kernel that we're ready.\n",
              "      channel.send({})\n",
              "\n",
              "      for await (const message of channel.messages) {\n",
              "        // Send a message to notify the kernel that we're ready.\n",
              "        channel.send({})\n",
              "        if (message.buffers) {\n",
              "          for (const buffer of message.buffers) {\n",
              "            buffers.push(buffer);\n",
              "            downloaded += buffer.byteLength;\n",
              "            progress.value = downloaded;\n",
              "          }\n",
              "        }\n",
              "      }\n",
              "      const blob = new Blob(buffers, {type: 'application/binary'});\n",
              "      const a = document.createElement('a');\n",
              "      a.href = window.URL.createObjectURL(blob);\n",
              "      a.download = filename;\n",
              "      div.appendChild(a);\n",
              "      a.click();\n",
              "      div.remove();\n",
              "    }\n",
              "  "
            ]
          },
          "metadata": {}
        },
        {
          "output_type": "display_data",
          "data": {
            "text/plain": [
              "<IPython.core.display.Javascript object>"
            ],
            "application/javascript": [
              "download(\"download_93d145f6-989c-4aa4-acb2-943c88f59328\", \"model.h5\", 15392)"
            ]
          },
          "metadata": {}
        },
        {
          "output_type": "display_data",
          "data": {
            "text/plain": [
              "<IPython.core.display.Javascript object>"
            ],
            "application/javascript": [
              "\n",
              "    async function download(id, filename, size) {\n",
              "      if (!google.colab.kernel.accessAllowed) {\n",
              "        return;\n",
              "      }\n",
              "      const div = document.createElement('div');\n",
              "      const label = document.createElement('label');\n",
              "      label.textContent = `Downloading \"${filename}\": `;\n",
              "      div.appendChild(label);\n",
              "      const progress = document.createElement('progress');\n",
              "      progress.max = size;\n",
              "      div.appendChild(progress);\n",
              "      document.body.appendChild(div);\n",
              "\n",
              "      const buffers = [];\n",
              "      let downloaded = 0;\n",
              "\n",
              "      const channel = await google.colab.kernel.comms.open(id);\n",
              "      // Send a message to notify the kernel that we're ready.\n",
              "      channel.send({})\n",
              "\n",
              "      for await (const message of channel.messages) {\n",
              "        // Send a message to notify the kernel that we're ready.\n",
              "        channel.send({})\n",
              "        if (message.buffers) {\n",
              "          for (const buffer of message.buffers) {\n",
              "            buffers.push(buffer);\n",
              "            downloaded += buffer.byteLength;\n",
              "            progress.value = downloaded;\n",
              "          }\n",
              "        }\n",
              "      }\n",
              "      const blob = new Blob(buffers, {type: 'application/binary'});\n",
              "      const a = document.createElement('a');\n",
              "      a.href = window.URL.createObjectURL(blob);\n",
              "      a.download = filename;\n",
              "      div.appendChild(a);\n",
              "      a.click();\n",
              "      div.remove();\n",
              "    }\n",
              "  "
            ]
          },
          "metadata": {}
        },
        {
          "output_type": "display_data",
          "data": {
            "text/plain": [
              "<IPython.core.display.Javascript object>"
            ],
            "application/javascript": [
              "download(\"download_75ad8a8b-464f-49b4-947b-84ea49bad6c8\", \"sine_model.cc\", 11209)"
            ]
          },
          "metadata": {}
        },
        {
          "output_type": "display_data",
          "data": {
            "text/plain": [
              "<IPython.core.display.Javascript object>"
            ],
            "application/javascript": [
              "\n",
              "    async function download(id, filename, size) {\n",
              "      if (!google.colab.kernel.accessAllowed) {\n",
              "        return;\n",
              "      }\n",
              "      const div = document.createElement('div');\n",
              "      const label = document.createElement('label');\n",
              "      label.textContent = `Downloading \"${filename}\": `;\n",
              "      div.appendChild(label);\n",
              "      const progress = document.createElement('progress');\n",
              "      progress.max = size;\n",
              "      div.appendChild(progress);\n",
              "      document.body.appendChild(div);\n",
              "\n",
              "      const buffers = [];\n",
              "      let downloaded = 0;\n",
              "\n",
              "      const channel = await google.colab.kernel.comms.open(id);\n",
              "      // Send a message to notify the kernel that we're ready.\n",
              "      channel.send({})\n",
              "\n",
              "      for await (const message of channel.messages) {\n",
              "        // Send a message to notify the kernel that we're ready.\n",
              "        channel.send({})\n",
              "        if (message.buffers) {\n",
              "          for (const buffer of message.buffers) {\n",
              "            buffers.push(buffer);\n",
              "            downloaded += buffer.byteLength;\n",
              "            progress.value = downloaded;\n",
              "          }\n",
              "        }\n",
              "      }\n",
              "      const blob = new Blob(buffers, {type: 'application/binary'});\n",
              "      const a = document.createElement('a');\n",
              "      a.href = window.URL.createObjectURL(blob);\n",
              "      a.download = filename;\n",
              "      div.appendChild(a);\n",
              "      a.click();\n",
              "      div.remove();\n",
              "    }\n",
              "  "
            ]
          },
          "metadata": {}
        },
        {
          "output_type": "display_data",
          "data": {
            "text/plain": [
              "<IPython.core.display.Javascript object>"
            ],
            "application/javascript": [
              "download(\"download_45310fb9-5e9b-464a-92ec-33aeb88c798f\", \"sine_model.tflite\", 1804)"
            ]
          },
          "metadata": {}
        },
        {
          "output_type": "display_data",
          "data": {
            "text/plain": [
              "<IPython.core.display.Javascript object>"
            ],
            "application/javascript": [
              "\n",
              "    async function download(id, filename, size) {\n",
              "      if (!google.colab.kernel.accessAllowed) {\n",
              "        return;\n",
              "      }\n",
              "      const div = document.createElement('div');\n",
              "      const label = document.createElement('label');\n",
              "      label.textContent = `Downloading \"${filename}\": `;\n",
              "      div.appendChild(label);\n",
              "      const progress = document.createElement('progress');\n",
              "      progress.max = size;\n",
              "      div.appendChild(progress);\n",
              "      document.body.appendChild(div);\n",
              "\n",
              "      const buffers = [];\n",
              "      let downloaded = 0;\n",
              "\n",
              "      const channel = await google.colab.kernel.comms.open(id);\n",
              "      // Send a message to notify the kernel that we're ready.\n",
              "      channel.send({})\n",
              "\n",
              "      for await (const message of channel.messages) {\n",
              "        // Send a message to notify the kernel that we're ready.\n",
              "        channel.send({})\n",
              "        if (message.buffers) {\n",
              "          for (const buffer of message.buffers) {\n",
              "            buffers.push(buffer);\n",
              "            downloaded += buffer.byteLength;\n",
              "            progress.value = downloaded;\n",
              "          }\n",
              "        }\n",
              "      }\n",
              "      const blob = new Blob(buffers, {type: 'application/binary'});\n",
              "      const a = document.createElement('a');\n",
              "      a.href = window.URL.createObjectURL(blob);\n",
              "      a.download = filename;\n",
              "      div.appendChild(a);\n",
              "      a.click();\n",
              "      div.remove();\n",
              "    }\n",
              "  "
            ]
          },
          "metadata": {}
        },
        {
          "output_type": "display_data",
          "data": {
            "text/plain": [
              "<IPython.core.display.Javascript object>"
            ],
            "application/javascript": [
              "download(\"download_a09bc467-dfd9-4a41-8f51-33c8bce4d1ea\", \"sine_model_quantized.cc\", 14459)"
            ]
          },
          "metadata": {}
        },
        {
          "output_type": "display_data",
          "data": {
            "text/plain": [
              "<IPython.core.display.Javascript object>"
            ],
            "application/javascript": [
              "\n",
              "    async function download(id, filename, size) {\n",
              "      if (!google.colab.kernel.accessAllowed) {\n",
              "        return;\n",
              "      }\n",
              "      const div = document.createElement('div');\n",
              "      const label = document.createElement('label');\n",
              "      label.textContent = `Downloading \"${filename}\": `;\n",
              "      div.appendChild(label);\n",
              "      const progress = document.createElement('progress');\n",
              "      progress.max = size;\n",
              "      div.appendChild(progress);\n",
              "      document.body.appendChild(div);\n",
              "\n",
              "      const buffers = [];\n",
              "      let downloaded = 0;\n",
              "\n",
              "      const channel = await google.colab.kernel.comms.open(id);\n",
              "      // Send a message to notify the kernel that we're ready.\n",
              "      channel.send({})\n",
              "\n",
              "      for await (const message of channel.messages) {\n",
              "        // Send a message to notify the kernel that we're ready.\n",
              "        channel.send({})\n",
              "        if (message.buffers) {\n",
              "          for (const buffer of message.buffers) {\n",
              "            buffers.push(buffer);\n",
              "            downloaded += buffer.byteLength;\n",
              "            progress.value = downloaded;\n",
              "          }\n",
              "        }\n",
              "      }\n",
              "      const blob = new Blob(buffers, {type: 'application/binary'});\n",
              "      const a = document.createElement('a');\n",
              "      a.href = window.URL.createObjectURL(blob);\n",
              "      a.download = filename;\n",
              "      div.appendChild(a);\n",
              "      a.click();\n",
              "      div.remove();\n",
              "    }\n",
              "  "
            ]
          },
          "metadata": {}
        },
        {
          "output_type": "display_data",
          "data": {
            "text/plain": [
              "<IPython.core.display.Javascript object>"
            ],
            "application/javascript": [
              "download(\"download_5d58978a-1ded-427c-9772-1f43464f4aad\", \"sine_model_quantized.tflite\", 2328)"
            ]
          },
          "metadata": {}
        },
        {
          "output_type": "display_data",
          "data": {
            "text/plain": [
              "<IPython.core.display.Javascript object>"
            ],
            "application/javascript": [
              "\n",
              "    async function download(id, filename, size) {\n",
              "      if (!google.colab.kernel.accessAllowed) {\n",
              "        return;\n",
              "      }\n",
              "      const div = document.createElement('div');\n",
              "      const label = document.createElement('label');\n",
              "      label.textContent = `Downloading \"${filename}\": `;\n",
              "      div.appendChild(label);\n",
              "      const progress = document.createElement('progress');\n",
              "      progress.max = size;\n",
              "      div.appendChild(progress);\n",
              "      document.body.appendChild(div);\n",
              "\n",
              "      const buffers = [];\n",
              "      let downloaded = 0;\n",
              "\n",
              "      const channel = await google.colab.kernel.comms.open(id);\n",
              "      // Send a message to notify the kernel that we're ready.\n",
              "      channel.send({})\n",
              "\n",
              "      for await (const message of channel.messages) {\n",
              "        // Send a message to notify the kernel that we're ready.\n",
              "        channel.send({})\n",
              "        if (message.buffers) {\n",
              "          for (const buffer of message.buffers) {\n",
              "            buffers.push(buffer);\n",
              "            downloaded += buffer.byteLength;\n",
              "            progress.value = downloaded;\n",
              "          }\n",
              "        }\n",
              "      }\n",
              "      const blob = new Blob(buffers, {type: 'application/binary'});\n",
              "      const a = document.createElement('a');\n",
              "      a.href = window.URL.createObjectURL(blob);\n",
              "      a.download = filename;\n",
              "      div.appendChild(a);\n",
              "      a.click();\n",
              "      div.remove();\n",
              "    }\n",
              "  "
            ]
          },
          "metadata": {}
        },
        {
          "output_type": "display_data",
          "data": {
            "text/plain": [
              "<IPython.core.display.Javascript object>"
            ],
            "application/javascript": [
              "download(\"download_ef7167c9-38a5-4c39-8172-448096c9aba4\", \"test.cc\", 7680)"
            ]
          },
          "metadata": {}
        },
        {
          "output_type": "display_data",
          "data": {
            "text/plain": [
              "<IPython.core.display.Javascript object>"
            ],
            "application/javascript": [
              "\n",
              "    async function download(id, filename, size) {\n",
              "      if (!google.colab.kernel.accessAllowed) {\n",
              "        return;\n",
              "      }\n",
              "      const div = document.createElement('div');\n",
              "      const label = document.createElement('label');\n",
              "      label.textContent = `Downloading \"${filename}\": `;\n",
              "      div.appendChild(label);\n",
              "      const progress = document.createElement('progress');\n",
              "      progress.max = size;\n",
              "      div.appendChild(progress);\n",
              "      document.body.appendChild(div);\n",
              "\n",
              "      const buffers = [];\n",
              "      let downloaded = 0;\n",
              "\n",
              "      const channel = await google.colab.kernel.comms.open(id);\n",
              "      // Send a message to notify the kernel that we're ready.\n",
              "      channel.send({})\n",
              "\n",
              "      for await (const message of channel.messages) {\n",
              "        // Send a message to notify the kernel that we're ready.\n",
              "        channel.send({})\n",
              "        if (message.buffers) {\n",
              "          for (const buffer of message.buffers) {\n",
              "            buffers.push(buffer);\n",
              "            downloaded += buffer.byteLength;\n",
              "            progress.value = downloaded;\n",
              "          }\n",
              "        }\n",
              "      }\n",
              "      const blob = new Blob(buffers, {type: 'application/binary'});\n",
              "      const a = document.createElement('a');\n",
              "      a.href = window.URL.createObjectURL(blob);\n",
              "      a.download = filename;\n",
              "      div.appendChild(a);\n",
              "      a.click();\n",
              "      div.remove();\n",
              "    }\n",
              "  "
            ]
          },
          "metadata": {}
        },
        {
          "output_type": "display_data",
          "data": {
            "text/plain": [
              "<IPython.core.display.Javascript object>"
            ],
            "application/javascript": [
              "download(\"download_f464c199-87b3-4df9-9f83-8ea7bffb0d58\", \"testq.cc\", 9920)"
            ]
          },
          "metadata": {}
        }
      ]
    },
    {
      "cell_type": "code",
      "source": [
        "tf.lite.experimental.Analyzer.analyze(model_content=tflite_model)\n"
      ],
      "metadata": {
        "colab": {
          "base_uri": "https://localhost:8080/"
        },
        "id": "v9stqoUi5xe8",
        "outputId": "7f733cb3-448d-419d-846e-2152bad5bf3d"
      },
      "execution_count": null,
      "outputs": [
        {
          "output_type": "stream",
          "name": "stdout",
          "text": [
            "=== TFLite ModelAnalyzer ===\n",
            "\n",
            "Your TFLite model has '1' subgraph(s). In the subgraph description below,\n",
            "T# represents the Tensor numbers. For example, in Subgraph#0, the QUANTIZE op takes\n",
            "tensor #0 as input and produces tensor #5 as output.\n",
            "\n",
            "Subgraph#0 main(T#0) -> [T#9]\n",
            "  Op#0 QUANTIZE(T#0) -> [T#5]\n",
            "  Op#1 FULLY_CONNECTED(T#5, T#1, T#2) -> [T#6]\n",
            "  Op#2 SOFTMAX(T#6) -> [T#7]\n",
            "  Op#3 FULLY_CONNECTED(T#7, T#3, T#4) -> [T#8]\n",
            "  Op#4 DEQUANTIZE(T#8) -> [T#9]\n",
            "\n",
            "Tensors of Subgraph#0\n",
            "  T#0(serving_default_dense_6_input:0) shape_signature:[-1, 1], type:FLOAT32\n",
            "  T#1(sequential_3/dense_6/MatMul) shape:[16, 1], type:INT8 RO 16 bytes\n",
            "  T#2(sequential_3/dense_6/BiasAdd/ReadVariableOp) shape:[16], type:INT32 RO 64 bytes\n",
            "  T#3(sequential_3/dense_7/MatMul) shape:[1, 16], type:INT8 RO 16 bytes\n",
            "  T#4(sequential_3/dense_7/BiasAdd/ReadVariableOp) shape:[1], type:INT32 RO 4 bytes\n",
            "  T#5(tfl.quantize) shape_signature:[-1, 1], type:INT8\n",
            "  T#6(sequential_3/dense_6/MatMul;sequential_3/dense_6/BiasAdd) shape_signature:[-1, 16], type:INT8\n",
            "  T#7(sequential_3/dense_6/Softmax) shape_signature:[-1, 16], type:INT8\n",
            "  T#8(StatefulPartitionedCall:01) shape_signature:[-1, 1], type:INT8\n",
            "  T#9(StatefulPartitionedCall:0) shape_signature:[-1, 1], type:FLOAT32\n",
            "\n",
            "---------------------------------------------------------------\n",
            "Your TFLite model has ‘1’ signature_def(s).\n",
            "\n",
            "Signature#0 key: 'serving_default'\n",
            "- Subgraph: Subgraph#0\n",
            "- Inputs: \n",
            "    'dense_6_input' : T#0\n",
            "- Outputs: \n",
            "    'dense_7' : T#9\n",
            "\n",
            "---------------------------------------------------------------\n",
            "              Model size:       2328 bytes\n",
            "    Non-data buffer size:       2124 bytes (91.24 %)\n",
            "  Total data buffer size:        204 bytes (08.76 %)\n",
            "    (Zero value buffers):          0 bytes (00.00 %)\n",
            "\n",
            "* Buffers of TFLite model are mostly used for constant tensors.\n",
            "  And zero value buffers are buffers filled with zeros.\n",
            "  Non-data buffers area are used to store operators, subgraphs and etc.\n",
            "  You can find more details from https://github.com/tensorflow/tensorflow/blob/master/tensorflow/lite/schema/schema.fbs\n",
            "\n"
          ]
        }
      ]
    }
  ]
}